{
  "nbformat": 4,
  "nbformat_minor": 0,
  "metadata": {
    "colab": {
      "provenance": []
    },
    "kernelspec": {
      "name": "python3",
      "display_name": "Python 3"
    },
    "language_info": {
      "name": "python"
    }
  },
  "cells": [
    {
      "cell_type": "code",
      "execution_count": null,
      "metadata": {
        "colab": {
          "base_uri": "https://localhost:8080/"
        },
        "id": "Pk0nuSGOTgRL",
        "outputId": "b8e7b93e-9110-4ef7-c24b-b4cb74c30ab5"
      },
      "outputs": [
        {
          "output_type": "execute_result",
          "data": {
            "text/plain": [
              "['/content/Progetto/train.csv']"
            ]
          },
          "metadata": {},
          "execution_count": 13
        }
      ],
      "source": [
        "from sklearn.pipeline import make_pipeline\n",
        "from sklearn.impute import SimpleImputer\n",
        "from sklearn.preprocessing import StandardScaler, LabelEncoder\n",
        "from sklearn.preprocessing import OneHotEncoder\n",
        "from sklearn.compose import ColumnTransformer\n",
        "from sklearn.preprocessing import LabelEncoder\n",
        "from sklearn.feature_extraction.text import CountVectorizer\n",
        "from sklearn.pipeline import Pipeline\n",
        "from sklearn.compose import ColumnTransformer\n",
        "import pandas as pd\n",
        "from sklearn.model_selection import train_test_split\n",
        "import gdown\n",
        "from sklearn.metrics import  confusion_matrix\n",
        "import matplotlib.pyplot as plt\n",
        "import seaborn as sns\n",
        "import numpy as np\n",
        "from sklearn.linear_model import LogisticRegression\n",
        "from sklearn.metrics import accuracy_score,classification_report\n",
        "from sklearn.model_selection import GridSearchCV\n",
        "from sklearn.preprocessing import OneHotEncoder, OrdinalEncoder,  StandardScaler, MinMaxScaler,MultiLabelBinarizer,LabelEncoder\n",
        "from sklearn.base import BaseEstimator, TransformerMixin\n",
        "\n",
        "\n",
        "\n",
        "url = \"https://drive.google.com/drive/folders/1K28d1ufLIZL6WtQIS4CE4H_EZZAzvTqX?usp=drive_link\"\n",
        "gdown.download_folder(url, quiet=True)"
      ]
    },
    {
      "cell_type": "markdown",
      "source": [
        "# **Nurbek`s data preprocessing**"
      ],
      "metadata": {
        "id": "2XN83D7fDS2T"
      }
    },
    {
      "cell_type": "code",
      "source": [
        "label_encoder = LabelEncoder()\n",
        "train_df=pd.read_csv('/content/Progetto/train.csv')\n",
        "train_df['Crime_Category'] = label_encoder.fit_transform(train_df['Crime_Category'])\n",
        "X = train_df.drop(columns=['Crime_Category'])\n",
        "y = train_df['Crime_Category']\n",
        "# Split features into numerical and categorical columns\n",
        "numerical_columns = X.select_dtypes(include=['float64', 'int64']).columns\n",
        "categorical_columns = X.select_dtypes(include=['object']).columns\n",
        "# Handle missing values\n",
        "X[numerical_columns] = X[numerical_columns].fillna(X[numerical_columns].median())\n",
        "X[categorical_columns] = X[categorical_columns].fillna('Unknown')\n",
        "# Convert categorical features to numeric\n",
        "label_encoders = {}\n",
        "for col in categorical_columns:\n",
        "    le = LabelEncoder()\n",
        "    X[col] = le.fit_transform(X[col])\n",
        "    label_encoders[col] = le\n",
        "    # Scale numerical features\n",
        "scaler = StandardScaler()\n",
        "X[numerical_columns] = scaler.fit_transform(X[numerical_columns])\n",
        "\n",
        "# Step 2: Split data into training and test sets\n",
        "X_train, X_test, y_train, y_test = train_test_split(X, y, test_size=0.2, random_state=42)"
      ],
      "metadata": {
        "id": "IERRejQcUuGz"
      },
      "execution_count": null,
      "outputs": []
    },
    {
      "cell_type": "code",
      "source": [
        "# Define the parameter grid\n",
        "param_grid = {\n",
        "    'penalty': ['l1','l2'],\n",
        "    'C': [0.001, 0.01, 0.1, 1, 10],\n",
        "    'solver': ['liblinear','saga']\n",
        "}\n",
        "# Create a GridSearchCV object\n",
        "grid_search = GridSearchCV(LogisticRegression(), param_grid, cv=2, n_jobs=-1, scoring='accuracy')"
      ],
      "metadata": {
        "id": "qCY0bE11VEmG"
      },
      "execution_count": null,
      "outputs": []
    },
    {
      "cell_type": "code",
      "source": [
        "grid_search.fit(X_train, y_train)\n",
        "# Get the best parameters\n",
        "best_params = grid_search.best_params_\n",
        "# Get the best estimator\n",
        "best_model = grid_search.best_estimator_\n",
        "# Visualize the Confusion Matrix\n",
        "y_pred = best_model.predict(X_test)\n",
        "conf_matrix = confusion_matrix(y_test, y_pred)\n",
        "print('\\n')\n",
        "plt.figure(figsize=(10, 7))\n",
        "sns.heatmap(conf_matrix, annot=True, fmt='d', cmap='Blues', xticklabels=np.unique(y_test), yticklabels=np.unique(y_test))\n",
        "plt.xlabel('Predicted')\n",
        "plt.ylabel('True')\n",
        "plt.title('Confusion Matrix')\n",
        "plt.show()\n",
        "#model.score(X_test,y_test)\n",
        "report=classification_report(y_test,y_pred)\n",
        "print(report)\n",
        "print(accuracy_score(y_test,y_pred))\n",
        "# Print the best parameters and score\n",
        "best_params = grid_search.best_params_\n",
        "print(best_params)\n"
      ],
      "metadata": {
        "id": "wodLWB7AUvfX"
      },
      "execution_count": null,
      "outputs": []
    }
  ]
}