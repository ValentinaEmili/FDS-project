{
 "cells": [
  {
   "cell_type": "code",
   "execution_count": 7,
   "metadata": {
    "id": "BdLjwDiUqrsY"
   },
   "outputs": [],
   "source": [
    "import pandas as pd\n",
    "from sklearn.model_selection import train_test_split\n",
    "from sklearn.pipeline import make_pipeline\n",
    "from sklearn.impute import SimpleImputer\n",
    "from sklearn.preprocessing import StandardScaler\n",
    "from sklearn.preprocessing import OneHotEncoder\n",
    "from sklearn.compose import ColumnTransformer\n",
    "from sklearn.feature_extraction.text import CountVectorizer\n",
    "from sklearn.preprocessing import LabelEncoder\n",
    "from sklearn.tree import DecisionTreeClassifier\n",
    "from sklearn.metrics import classification_report, accuracy_score\n",
    "from sklearn.model_selection import GridSearchCV"
   ]
  },
  {
   "cell_type": "code",
   "execution_count": 23,
   "metadata": {
    "id": "7aInB_sCiFLR"
   },
   "outputs": [],
   "source": [
    "# data preprocessing with OneHot encoding\n",
    "\n",
    "X = pd.read_csv(\"train.csv\")\n",
    "y = X['Crime_Category']\n",
    "X = X.drop('Crime_Category', axis=1)\n",
    "\n",
    "# remove column with 80% null values\n",
    "X.drop('Cross_Street', axis=1, inplace=True)\n",
    "\n",
    "# handle missing data\n",
    "X['Victim_Sex'] = X['Victim_Sex'].replace(['H', 'X'], 'Unknown')\n",
    "X['Victim_Descent'] = X['Victim_Descent'].fillna('Unknown')\n",
    "X['Weapon_Description'] = X['Weapon_Description'].fillna('No Weapon')\n",
    "X['Weapon_Used_Code'] = X['Weapon_Used_Code'].fillna(0) # Weapon_Used_Code is in the range [1,3990], 0 is for missing code\n",
    "X['Modus_Operandi'] = X['Modus_Operandi'].fillna('Unknown')\n",
    "\n",
    "# data handling\n",
    "X['Date_Reported'] = pd.to_datetime(X['Date_Reported'], format='%m/%d/%Y %I:%M:%S %p', errors='coerce')\n",
    "X['Date_Occurred'] = pd.to_datetime(X['Date_Occurred'], format='%m/%d/%Y %I:%M:%S %p', errors='coerce')\n",
    "X['Year_Reported'] = X.Date_Reported.dt.year\n",
    "X['Year_Occurred'] = X.Date_Occurred.dt.year\n",
    "X['Month_Reported'] = X.Date_Reported.dt.month\n",
    "X['Month_Occurred'] = X.Date_Occurred.dt.month\n",
    "X['Day_Reported'] = X.Date_Reported.dt.day\n",
    "X['Day_Occurred'] = X.Date_Occurred.dt.day\n",
    "X.drop(['Date_Reported', 'Date_Occurred'], axis=1, inplace=True)\n",
    "\n",
    "numerical_columns = X.select_dtypes(include=['int64', 'float64']).columns.tolist()\n",
    "categorical_columns = X.select_dtypes(include=['object']).columns.tolist()\n",
    "categorical_columns = [col for col in categorical_columns if col != 'Modus_Operandi']\n",
    "\n",
    "numerical_pipeline = make_pipeline(\n",
    "    SimpleImputer(strategy='median'),\n",
    "    StandardScaler()\n",
    ")\n",
    "\n",
    "categorical_pipeline = make_pipeline(\n",
    "    SimpleImputer(strategy='most_frequent'),\n",
    "    OneHotEncoder(handle_unknown='ignore', sparse_output=False, drop='first')\n",
    "    )\n",
    "\n",
    "modus_operandi_pipeline = make_pipeline(\n",
    "    SimpleImputer(strategy='most_frequent'),\n",
    "    CountVectorizer(preprocessor=lambda x:x[0])\n",
    ")\n",
    "\n",
    "preprocessor = ColumnTransformer(transformers=[\n",
    "    ('num', numerical_pipeline, numerical_columns),\n",
    "    ('cat', categorical_pipeline, categorical_columns),\n",
    "    ('modus_operandi', modus_operandi_pipeline, ['Modus_Operandi'])\n",
    "  ])\n"
   ]
  },
  {
   "cell_type": "code",
   "execution_count": 17,
   "metadata": {
    "id": "mLZ1_Kza05_E"
   },
   "outputs": [],
   "source": [
    "# data preprocessing with Label encoding\n",
    "\n",
    "X = pd.read_csv(\"train.csv\")\n",
    "y = X['Crime_Category']\n",
    "X = X.drop('Crime_Category', axis=1)\n",
    "\n",
    "# remove column with 80% null values\n",
    "X.drop('Cross_Street', axis=1, inplace=True)\n",
    "\n",
    "# handle missing data\n",
    "X['Victim_Sex'] = X['Victim_Sex'].replace(['H', 'X'], 'Unknown')\n",
    "X['Victim_Descent'] = X['Victim_Descent'].fillna('Unknown')\n",
    "X['Weapon_Description'] = X['Weapon_Description'].fillna('No Weapon')\n",
    "X['Weapon_Used_Code'] = X['Weapon_Used_Code'].fillna(0) # Weapon_Used_Code is in the range [1,3990], 0 is for missing code\n",
    "X['Modus_Operandi'] = X['Modus_Operandi'].fillna('Unknown')\n",
    "\n",
    "# data handling\n",
    "X['Date_Reported'] = pd.to_datetime(X['Date_Reported'], format='%m/%d/%Y %I:%M:%S %p', errors='coerce')\n",
    "X['Date_Occurred'] = pd.to_datetime(X['Date_Occurred'], format='%m/%d/%Y %I:%M:%S %p', errors='coerce')\n",
    "X['Year_Reported'] = X.Date_Reported.dt.year\n",
    "X['Year_Occurred'] = X.Date_Occurred.dt.year\n",
    "X['Month_Reported'] = X.Date_Reported.dt.month\n",
    "X['Month_Occurred'] = X.Date_Occurred.dt.month\n",
    "X['Day_Reported'] = X.Date_Reported.dt.day\n",
    "X['Day_Occurred'] = X.Date_Occurred.dt.day\n",
    "X.drop(['Date_Reported', 'Date_Occurred'], axis=1, inplace=True)\n",
    "\n",
    "numerical_columns = X.select_dtypes(include=['int64', 'float64']).columns.tolist()\n",
    "categorical_columns = X.select_dtypes(include=['object']).columns.tolist()\n",
    "\n",
    "numerical_pipeline = make_pipeline(\n",
    "    SimpleImputer(strategy='median'),\n",
    "    StandardScaler()\n",
    ")\n",
    "\n",
    "def label_encoding_column(df, column):\n",
    "    lab_encoder = LabelEncoder()\n",
    "    df[column] = lab_encoder.fit_transform(df[column])\n",
    "    return df\n",
    "\n",
    "for col in categorical_columns:\n",
    "  if col == 'Modus_Operandi':\n",
    "    continue\n",
    "  X = label_encoding_column(X, col)\n",
    "\n",
    "modus_operandi_pipeline = make_pipeline(\n",
    "    SimpleImputer(strategy='most_frequent'),\n",
    "    CountVectorizer(preprocessor=lambda x:x[0])\n",
    ")\n",
    "\n",
    "preprocessor = ColumnTransformer(transformers=[\n",
    "    ('num', numerical_pipeline, numerical_columns),\n",
    "    ('modus_operandi', modus_operandi_pipeline, ['Modus_Operandi'])\n",
    "  ])\n"
   ]
  },
  {
   "cell_type": "markdown",
   "metadata": {},
   "source": [
    "Accuracy with OneHot encoding before hyper parameters tuning: 93.55%\n",
    "\n",
    "Accuracy with Label encoding before hyper parameters tuning: 92.9%"
   ]
  },
  {
   "cell_type": "code",
   "execution_count": 24,
   "metadata": {
    "colab": {
     "base_uri": "https://localhost:8080/"
    },
    "id": "lQupGB5erBQw",
    "outputId": "3a2e39ff-330f-41d1-af0f-6ebbec4423f9"
   },
   "outputs": [],
   "source": [
    "# full pipeline\n",
    "pipe = make_pipeline(\n",
    "    preprocessor,\n",
    "    DecisionTreeClassifier(random_state=42)\n",
    ")\n",
    "\n",
    "X_train, X_test, y_train, y_test = train_test_split(X, y, test_size=0.2, random_state=42)\n",
    "\n",
    "# encode target labels\n",
    "y_encoder = LabelEncoder()\n",
    "y_train_encoded = y_encoder.fit_transform(y_train.values.ravel())\n",
    "y_test_encoded = y_encoder.transform(y_test.values.ravel())\n",
    "\n",
    "# evaluation before tuning\n",
    "#pipe.fit(X_train, y_train_encoded)\n",
    "#y_pred = pipe.predict(X_test)\n",
    "#accuracy = accuracy_score(y_test_encoded, y_pred)\n",
    "#class_report = classification_report(y_test_encoded, y_pred)\n",
    "#print(\"Decision Tree Performance before tuning:\")\n",
    "#print(class_report)\n",
    "#print(\"Accuracy before tuning:\", accuracy)\n"
   ]
  },
  {
   "cell_type": "code",
   "execution_count": 20,
   "metadata": {},
   "outputs": [
    {
     "name": "stdout",
     "output_type": "stream",
     "text": [
      "columntransformer__remainder: drop\n",
      "columntransformer__sparse_threshold: 0.3\n",
      "columntransformer__num__simpleimputer__missing_values: nan\n",
      "columntransformer__num__simpleimputer__strategy: median\n",
      "columntransformer__modus_operandi__simpleimputer__missing_values: nan\n",
      "columntransformer__modus_operandi__simpleimputer__strategy: most_frequent\n",
      "columntransformer__modus_operandi__countvectorizer__analyzer: word\n",
      "columntransformer__modus_operandi__countvectorizer__decode_error: strict\n",
      "columntransformer__modus_operandi__countvectorizer__encoding: utf-8\n",
      "columntransformer__modus_operandi__countvectorizer__input: content\n",
      "columntransformer__modus_operandi__countvectorizer__max_df: 1.0\n",
      "columntransformer__modus_operandi__countvectorizer__min_df: 1\n",
      "columntransformer__modus_operandi__countvectorizer__token_pattern: (?u)\\b\\w\\w+\\b\n",
      "decisiontreeclassifier__ccp_alpha: 0.0\n",
      "decisiontreeclassifier__criterion: gini\n",
      "decisiontreeclassifier__min_impurity_decrease: 0.0\n",
      "decisiontreeclassifier__min_samples_leaf: 1\n",
      "decisiontreeclassifier__min_samples_split: 2\n",
      "decisiontreeclassifier__min_weight_fraction_leaf: 0.0\n",
      "decisiontreeclassifier__random_state: 42\n",
      "decisiontreeclassifier__splitter: best\n"
     ]
    }
   ],
   "source": [
    "# hyper parameters visualizations\n",
    "hparams = pipe.get_params()\n",
    "for hp, val in hparams.items():\n",
    "    if type(val) not in [int, float, str]:\n",
    "        continue\n",
    "    print(f\"{hp}: {val}\")"
   ]
  },
  {
   "cell_type": "code",
   "execution_count": null,
   "metadata": {},
   "outputs": [],
   "source": [
    "grid = dict(\n",
    "    {\n",
    "        'decisiontreeclassifier__ccp_alpha': [0.0, 0.01],\n",
    "        'decisiontreeclassifier__criterion': ['gini', 'entropy'],\n",
    "        'decisiontreeclassifier__min_samples_split': [2, 5],\n",
    "        'decisiontreeclassifier__min_samples_leaf': [2, 4],\n",
    "        'decisiontreeclassifier__splitter': ['best', 'random']\n",
    "    }\n",
    ")"
   ]
  },
  {
   "cell_type": "code",
   "execution_count": null,
   "metadata": {},
   "outputs": [
    {
     "name": "stdout",
     "output_type": "stream",
     "text": [
      "Fitting 3 folds for each of 2 candidates, totalling 6 fits\n"
     ]
    },
    {
     "name": "stderr",
     "output_type": "stream",
     "text": [
      "/Users/valentinaemili/Library/Python/3.9/lib/python/site-packages/sklearn/preprocessing/_encoders.py:242: UserWarning: Found unknown categories in columns [0, 4, 5] during transform. These unknown categories will be encoded as all zeros\n",
      "  warnings.warn(\n",
      "/Users/valentinaemili/Library/Python/3.9/lib/python/site-packages/sklearn/preprocessing/_encoders.py:242: UserWarning: Found unknown categories in columns [0, 4, 5] during transform. These unknown categories will be encoded as all zeros\n",
      "  warnings.warn(\n",
      "/Users/valentinaemili/Library/Python/3.9/lib/python/site-packages/sklearn/preprocessing/_encoders.py:242: UserWarning: Found unknown categories in columns [0, 4, 5] during transform. These unknown categories will be encoded as all zeros\n",
      "  warnings.warn(\n",
      "/Users/valentinaemili/Library/Python/3.9/lib/python/site-packages/sklearn/preprocessing/_encoders.py:242: UserWarning: Found unknown categories in columns [0, 4, 5] during transform. These unknown categories will be encoded as all zeros\n",
      "  warnings.warn(\n",
      "/Users/valentinaemili/Library/Python/3.9/lib/python/site-packages/sklearn/preprocessing/_encoders.py:242: UserWarning: Found unknown categories in columns [0, 3, 4, 5] during transform. These unknown categories will be encoded as all zeros\n",
      "  warnings.warn(\n",
      "/Users/valentinaemili/Library/Python/3.9/lib/python/site-packages/sklearn/preprocessing/_encoders.py:242: UserWarning: Found unknown categories in columns [0, 3, 4, 5] during transform. These unknown categories will be encoded as all zeros\n",
      "  warnings.warn(\n"
     ]
    },
    {
     "name": "stdout",
     "output_type": "stream",
     "text": [
      "Best score: 0.938375026860626\n",
      "decisiontreeclassifier__ccp_alpha: 0.0\n",
      "              precision    recall  f1-score   support\n",
      "\n",
      "           0       0.47      0.59      0.53        32\n",
      "           1       0.80      0.77      0.78       374\n",
      "           2       0.91      0.90      0.91       267\n",
      "           3       0.31      0.26      0.28        35\n",
      "           4       0.98      0.98      0.98      2303\n",
      "           5       0.93      0.93      0.93       989\n",
      "\n",
      "    accuracy                           0.94      4000\n",
      "   macro avg       0.73      0.74      0.73      4000\n",
      "weighted avg       0.93      0.94      0.94      4000\n",
      "\n",
      "0.9355\n"
     ]
    },
    {
     "name": "stderr",
     "output_type": "stream",
     "text": [
      "/Users/valentinaemili/Library/Python/3.9/lib/python/site-packages/sklearn/preprocessing/_encoders.py:242: UserWarning: Found unknown categories in columns [0, 4, 5] during transform. These unknown categories will be encoded as all zeros\n",
      "  warnings.warn(\n"
     ]
    }
   ],
   "source": [
    "# hyperparameters tuning for onehot encoding\n",
    "grid = dict(\n",
    "    {\n",
    "        'decisiontreeclassifier__splitter': ['best', 'random']\n",
    "    }\n",
    ")\n",
    "\n",
    "pipe_cv = GridSearchCV(pipe, grid, cv=3, verbose=1, n_jobs=-1)\n",
    "pipe_cv.fit(X_train, y_train_encoded)\n",
    "print(f\"Best score: {pipe_cv.best_score_}\")\n",
    "for hp, val in pipe_cv.best_params_.items():\n",
    "    print(f\"{hp}: {val}\")\n",
    "\n",
    "# evaluation after tuning\n",
    "y_pred = pipe_cv.predict(X_test)\n",
    "print(classification_report(y_test_encoded, y_pred))\n",
    "accuracy = accuracy_score(y_test_encoded, y_pred)\n",
    "print(accuracy)"
   ]
  },
  {
   "cell_type": "code",
   "execution_count": null,
   "metadata": {
    "id": "b433Zlivi_fV"
   },
   "outputs": [
    {
     "name": "stdout",
     "output_type": "stream",
     "text": [
      "Fitting 3 folds for each of 8 candidates, totalling 24 fits\n",
      "Best score: 0.9355628197890978\n",
      "decisiontreeclassifier__min_samples_leaf: 4\n",
      "decisiontreeclassifier__splitter: random\n",
      "              precision    recall  f1-score   support\n",
      "\n",
      "           0       0.46      0.59      0.52        32\n",
      "           1       0.80      0.80      0.80       374\n",
      "           2       0.91      0.87      0.89       267\n",
      "           3       0.29      0.23      0.25        35\n",
      "           4       0.98      0.99      0.98      2303\n",
      "           5       0.92      0.93      0.92       989\n",
      "\n",
      "    accuracy                           0.94      4000\n",
      "   macro avg       0.73      0.74      0.73      4000\n",
      "weighted avg       0.94      0.94      0.94      4000\n",
      "\n",
      "0.93675\n"
     ]
    }
   ],
   "source": [
    "# hyperparameters tuning for label encoding\n",
    "grid = dict(\n",
    "    {\n",
    "        'decisiontreeclassifier__min_samples_leaf': [3, 4],\n",
    "        'decisiontreeclassifier__splitter': ['best', 'random']\n",
    "    }\n",
    ")\n",
    "\n",
    "pipe_cv = GridSearchCV(pipe, grid, cv=3, verbose=1, n_jobs=-1)\n",
    "pipe_cv.fit(X_train, y_train_encoded)\n",
    "print(f\"Best score: {pipe_cv.best_score_}\")\n",
    "for hp, val in pipe_cv.best_params_.items():\n",
    "    print(f\"{hp}: {val}\")\n",
    "\n",
    "# evaluation after tuning\n",
    "y_pred = pipe_cv.predict(X_test)\n",
    "print(classification_report(y_test_encoded, y_pred))\n",
    "accuracy = accuracy_score(y_test_encoded, y_pred)\n",
    "print(accuracy)"
   ]
  },
  {
   "cell_type": "markdown",
   "metadata": {},
   "source": [
    "Accuracy with OneHot encoding after hyper parameters tuning: 93.55%\n",
    "\n",
    "Accuracy with Label encoding after hyper parameters tuning: 93.675%"
   ]
  }
 ],
 "metadata": {
  "accelerator": "GPU",
  "colab": {
   "gpuType": "T4",
   "provenance": []
  },
  "kernelspec": {
   "display_name": "Python 3",
   "name": "python3"
  },
  "language_info": {
   "codemirror_mode": {
    "name": "ipython",
    "version": 3
   },
   "file_extension": ".py",
   "mimetype": "text/x-python",
   "name": "python",
   "nbconvert_exporter": "python",
   "pygments_lexer": "ipython3",
   "version": "3.9.6"
  }
 },
 "nbformat": 4,
 "nbformat_minor": 0
}
