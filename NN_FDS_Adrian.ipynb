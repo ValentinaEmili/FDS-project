{
  "nbformat": 4,
  "nbformat_minor": 0,
  "metadata": {
    "colab": {
      "provenance": []
    },
    "kernelspec": {
      "name": "python3",
      "display_name": "Python 3"
    },
    "language_info": {
      "name": "python"
    }
  },
  "cells": [
    {
      "cell_type": "code",
      "execution_count": 9,
      "metadata": {
        "colab": {
          "base_uri": "https://localhost:8080/"
        },
        "id": "DR4JtBS429CQ",
        "outputId": "0e6e130d-5cc8-4e1a-97fd-678a118ddb39"
      },
      "outputs": [
        {
          "output_type": "execute_result",
          "data": {
            "text/plain": [
              "['/content/Progetto/train.csv']"
            ]
          },
          "metadata": {},
          "execution_count": 9
        }
      ],
      "source": [
        "import tensorflow as tf\n",
        "from tensorflow.keras.models import Sequential\n",
        "from tensorflow.keras.layers import Dense\n",
        "from sklearn.pipeline import make_pipeline\n",
        "from sklearn.impute import SimpleImputer\n",
        "from sklearn.preprocessing import StandardScaler, LabelEncoder\n",
        "from sklearn.preprocessing import OneHotEncoder\n",
        "from sklearn.compose import ColumnTransformer\n",
        "from sklearn.feature_extraction.text import CountVectorizer\n",
        "from sklearn.pipeline import Pipeline\n",
        "from sklearn.compose import ColumnTransformer\n",
        "import pandas as pd\n",
        "from sklearn.model_selection import train_test_split\n",
        "import gdown\n",
        "from sklearn.metrics import  confusion_matrix\n",
        "import matplotlib.pyplot as plt\n",
        "import seaborn as sns\n",
        "import numpy as np\n",
        "from sklearn.linear_model import LogisticRegression\n",
        "from sklearn.metrics import accuracy_score,classification_report\n",
        "from tensorflow.keras.regularizers import l2\n",
        "from tensorflow.keras.callbacks import EarlyStopping\n",
        "from tensorflow.keras.layers import Dropout\n",
        "from tensorflow.keras.utils import to_categorical\n",
        "\n",
        "\n",
        "url = \"https://drive.google.com/drive/folders/1K28d1ufLIZL6WtQIS4CE4H_EZZAzvTqX?usp=drive_link\"\n",
        "gdown.download_folder(url, quiet=True)"
      ]
    },
    {
      "cell_type": "code",
      "source": [
        "# data preprocessing with OneHot encoding\n",
        "X = pd.read_csv(\"/content/Progetto/train.csv\")\n",
        "def handle_dataset(X):\n",
        "  y = X['Crime_Category']\n",
        "  X = X.drop('Crime_Category', axis=1)\n",
        "\n",
        "  # remove column with 80% null values\n",
        "  X.drop('Cross_Street', axis=1)\n",
        "\n",
        "  # handle missing data\n",
        "  X['Victim_Sex'] = X['Victim_Sex'].replace(['H', 'X'], 'Unknown')\n",
        "  X['Victim_Descent'] = X['Victim_Descent'].fillna('Unknown')\n",
        "  X['Weapon_Description'] = X['Weapon_Description'].fillna('No Weapon')\n",
        "  X['Weapon_Used_Code'] = X['Weapon_Used_Code'].fillna(0) # Weapon_Used_Code is in the range [1,3990], 0 is for missing code\n",
        "  X['Modus_Operandi'] = X['Modus_Operandi'].fillna('Unknown')\n",
        "\n",
        "  # data handling\n",
        "  X['Date_Reported'] = pd.to_datetime(X['Date_Reported'], format='%m/%d/%Y %I:%M:%S %p', errors='coerce')\n",
        "  X['Date_Occurred'] = pd.to_datetime(X['Date_Occurred'], format='%m/%d/%Y %I:%M:%S %p', errors='coerce')\n",
        "  X['Year_Reported'] = X.Date_Reported.dt.year\n",
        "  X['Year_Occurred'] = X.Date_Occurred.dt.year\n",
        "  X['Month_Reported'] = X.Date_Reported.dt.month\n",
        "  X['Month_Occurred'] = X.Date_Occurred.dt.month\n",
        "  X['Day_Reported'] = X.Date_Reported.dt.day\n",
        "  X['Day_Occurred'] = X.Date_Occurred.dt.day\n",
        "  X.drop(['Date_Reported', 'Date_Occurred'], axis=1, inplace=True)\n",
        "\n",
        "  numerical_columns = X.select_dtypes(include=['int64', 'float64']).columns.tolist()\n",
        "  categorical_columns = X.select_dtypes(include=['object']).columns.tolist()\n",
        "  categorical_columns = [col for col in categorical_columns if col != 'Modus_Operandi']\n",
        "\n",
        "  numerical_pipeline = make_pipeline(\n",
        "      SimpleImputer(strategy='median'),\n",
        "      StandardScaler()\n",
        "  )\n",
        "\n",
        "  categorical_pipeline = make_pipeline(\n",
        "      SimpleImputer(strategy='most_frequent'),\n",
        "      OneHotEncoder(handle_unknown='ignore', sparse_output=False)\n",
        "      )\n",
        "\n",
        "  modus_operandi_pipeline = make_pipeline(\n",
        "      SimpleImputer(strategy='most_frequent'),\n",
        "      CountVectorizer(preprocessor=lambda x:x[0])\n",
        "  )\n",
        "\n",
        "  preprocessor = ColumnTransformer(transformers=[\n",
        "      ('num', numerical_pipeline, numerical_columns),\n",
        "      ('cat', categorical_pipeline, categorical_columns),\n",
        "      ('modus_operandi', modus_operandi_pipeline, ['Modus_Operandi'])\n",
        "    ])\n",
        "\n",
        "  #Split data\n",
        "  X_train, X_test, y_train, y_test = train_test_split(X, y, test_size=0.2, random_state=42)\n",
        "\n",
        "  # full pipeline\n",
        "  pipe = make_pipeline(preprocessor)\n",
        "  #Transform data\n",
        "  X_train = pipe.fit_transform(X_train)\n",
        "  X_test = pipe.transform(X_test)\n",
        "  label_encoder = LabelEncoder()\n",
        "  y_train= label_encoder.fit_transform(y_train)\n",
        "  y_test=label_encoder.transform(y_test)\n",
        "  return X_train, X_test, y_train, y_test\n"
      ],
      "metadata": {
        "id": "1Z5hUL6_3W3X"
      },
      "execution_count": 10,
      "outputs": []
    },
    {
      "cell_type": "code",
      "source": [
        "X_train, X_test, y_train, y_test=handle_dataset(X)\n",
        "y_train=to_categorical(y_train)\n",
        "y_test_to_onehot=to_categorical(y_test)\n",
        "model = Sequential()\n",
        "model.add(Dense(64, activation='relu',kernel_regularizer=l2(0.001)))\n",
        "model.add(Dropout(0.3))  # Dropout\n",
        "model.add(Dense(32, activation='relu'))\n",
        "model.add(Dense(6, activation='softmax'))  # Adjust activation based on target variable\n",
        "\n",
        "# Compile the model\n",
        "early_stopping = EarlyStopping(monitor='val_loss', patience=3)  # Stop training after 3 epochs of no improvement in validation loss\n",
        "model.compile(loss='binary_crossentropy', optimizer='adam', metrics=['accuracy'])\n",
        "model.fit(X_train, y_train, epochs=10, batch_size=32, validation_data=(X_test, y_test_to_onehot), callbacks=[early_stopping])\n",
        "test_loss, test_acc = model.evaluate(X_test, y_test_to_onehot)\n",
        "#print('Test accuracy:', test_acc)\n",
        "y_pred = model.predict(X_test)\n",
        "y_pred_classes=np.argmax(y_pred,axis=1)\n",
        "conf_matrix = confusion_matrix(y_test, y_pred_classes)\n",
        "print('\\n')\n",
        "plt.figure(figsize=(10, 7))\n",
        "sns.heatmap(conf_matrix, annot=True, fmt='d', cmap='Blues', xticklabels=np.unique(y_test), yticklabels=np.unique(y_test))\n",
        "plt.xlabel('Predicted')\n",
        "plt.ylabel('True')\n",
        "plt.title('Confusion Matrix')\n",
        "plt.show()\n",
        "#model.score(X_test,y_test)\n",
        "report=classification_report(y_test,y_pred_classes)\n",
        "print(report)\n"
      ],
      "metadata": {
        "colab": {
          "base_uri": "https://localhost:8080/",
          "height": 1000
        },
        "id": "DlTNuyeA3puF",
        "outputId": "80702125-2748-456a-932a-eae2f8e8e948"
      },
      "execution_count": 11,
      "outputs": [
        {
          "output_type": "stream",
          "name": "stdout",
          "text": [
            "Epoch 1/10\n",
            "\u001b[1m500/500\u001b[0m \u001b[32m━━━━━━━━━━━━━━━━━━━━\u001b[0m\u001b[37m\u001b[0m \u001b[1m14s\u001b[0m 23ms/step - accuracy: 0.7783 - loss: 0.2917 - val_accuracy: 0.9320 - val_loss: 0.0878\n",
            "Epoch 2/10\n",
            "\u001b[1m500/500\u001b[0m \u001b[32m━━━━━━━━━━━━━━━━━━━━\u001b[0m\u001b[37m\u001b[0m \u001b[1m14s\u001b[0m 27ms/step - accuracy: 0.9297 - loss: 0.0915 - val_accuracy: 0.9413 - val_loss: 0.0745\n",
            "Epoch 3/10\n",
            "\u001b[1m500/500\u001b[0m \u001b[32m━━━━━━━━━━━━━━━━━━━━\u001b[0m\u001b[37m\u001b[0m \u001b[1m14s\u001b[0m 27ms/step - accuracy: 0.9406 - loss: 0.0771 - val_accuracy: 0.9440 - val_loss: 0.0688\n",
            "Epoch 4/10\n",
            "\u001b[1m500/500\u001b[0m \u001b[32m━━━━━━━━━━━━━━━━━━━━\u001b[0m\u001b[37m\u001b[0m \u001b[1m19s\u001b[0m 25ms/step - accuracy: 0.9487 - loss: 0.0719 - val_accuracy: 0.9440 - val_loss: 0.0685\n",
            "Epoch 5/10\n",
            "\u001b[1m500/500\u001b[0m \u001b[32m━━━━━━━━━━━━━━━━━━━━\u001b[0m\u001b[37m\u001b[0m \u001b[1m22s\u001b[0m 28ms/step - accuracy: 0.9478 - loss: 0.0704 - val_accuracy: 0.9485 - val_loss: 0.0640\n",
            "Epoch 6/10\n",
            "\u001b[1m500/500\u001b[0m \u001b[32m━━━━━━━━━━━━━━━━━━━━\u001b[0m\u001b[37m\u001b[0m \u001b[1m18s\u001b[0m 22ms/step - accuracy: 0.9519 - loss: 0.0651 - val_accuracy: 0.9473 - val_loss: 0.0647\n",
            "Epoch 7/10\n",
            "\u001b[1m500/500\u001b[0m \u001b[32m━━━━━━━━━━━━━━━━━━━━\u001b[0m\u001b[37m\u001b[0m \u001b[1m22s\u001b[0m 25ms/step - accuracy: 0.9526 - loss: 0.0635 - val_accuracy: 0.9498 - val_loss: 0.0638\n",
            "Epoch 8/10\n",
            "\u001b[1m500/500\u001b[0m \u001b[32m━━━━━━━━━━━━━━━━━━━━\u001b[0m\u001b[37m\u001b[0m \u001b[1m21s\u001b[0m 26ms/step - accuracy: 0.9575 - loss: 0.0616 - val_accuracy: 0.9485 - val_loss: 0.0637\n",
            "Epoch 9/10\n",
            "\u001b[1m500/500\u001b[0m \u001b[32m━━━━━━━━━━━━━━━━━━━━\u001b[0m\u001b[37m\u001b[0m \u001b[1m11s\u001b[0m 21ms/step - accuracy: 0.9578 - loss: 0.0616 - val_accuracy: 0.9485 - val_loss: 0.0625\n",
            "Epoch 10/10\n",
            "\u001b[1m500/500\u001b[0m \u001b[32m━━━━━━━━━━━━━━━━━━━━\u001b[0m\u001b[37m\u001b[0m \u001b[1m22s\u001b[0m 25ms/step - accuracy: 0.9591 - loss: 0.0579 - val_accuracy: 0.9515 - val_loss: 0.0635\n",
            "\u001b[1m125/125\u001b[0m \u001b[32m━━━━━━━━━━━━━━━━━━━━\u001b[0m\u001b[37m\u001b[0m \u001b[1m1s\u001b[0m 7ms/step - accuracy: 0.9517 - loss: 0.0636\n",
            "\u001b[1m125/125\u001b[0m \u001b[32m━━━━━━━━━━━━━━━━━━━━\u001b[0m\u001b[37m\u001b[0m \u001b[1m1s\u001b[0m 5ms/step\n",
            "\n",
            "\n"
          ]
        },
        {
          "output_type": "display_data",
          "data": {
            "text/plain": [
              "<Figure size 1000x700 with 2 Axes>"
            ],
            "image/png": "[encoded data removed]"
          },
          "metadata": {}
        },
        {
          "output_type": "stream",
          "name": "stdout",
          "text": [
            "              precision    recall  f1-score   support\n",
            "\n",
            "           0       0.54      0.44      0.48        32\n",
            "           1       0.81      0.86      0.83       374\n",
            "           2       0.97      0.93      0.95       267\n",
            "           3       0.50      0.03      0.05        35\n",
            "           4       0.99      0.99      0.99      2303\n",
            "           5       0.92      0.96      0.94       989\n",
            "\n",
            "    accuracy                           0.95      4000\n",
            "   macro avg       0.79      0.70      0.71      4000\n",
            "weighted avg       0.95      0.95      0.95      4000\n",
            "\n"
          ]
        }
      ]
    }
  ]
}