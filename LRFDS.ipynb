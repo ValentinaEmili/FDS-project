{
  "nbformat": 4,
  "nbformat_minor": 0,
  "metadata": {
    "colab": {
      "provenance": []
    },
    "kernelspec": {
      "name": "python3",
      "display_name": "Python 3"
    },
    "language_info": {
      "name": "python"
    }
  },
  "cells": [
    {
      "cell_type": "code",
      "source": [
        "from sklearn.pipeline import make_pipeline\n",
        "from sklearn.impute import SimpleImputer\n",
        "from sklearn.preprocessing import StandardScaler, LabelEncoder\n",
        "from sklearn.preprocessing import OneHotEncoder\n",
        "from sklearn.compose import ColumnTransformer\n",
        "from sklearn.preprocessing import LabelEncoder\n",
        "from sklearn.feature_extraction.text import CountVectorizer\n",
        "from sklearn.pipeline import Pipeline\n",
        "from sklearn.compose import ColumnTransformer\n",
        "import pandas as pd\n",
        "from sklearn.model_selection import train_test_split\n",
        "import gdown\n",
        "from sklearn.metrics import  confusion_matrix\n",
        "import matplotlib.pyplot as plt\n",
        "import seaborn as sns\n",
        "import numpy as np\n",
        "from sklearn.linear_model import LogisticRegression\n",
        "from sklearn.metrics import accuracy_score,classification_report\n",
        "from sklearn.model_selection import GridSearchCV\n",
        "from sklearn.preprocessing import OneHotEncoder, OrdinalEncoder,  StandardScaler, MinMaxScaler,MultiLabelBinarizer,LabelEncoder\n",
        "from sklearn.base import BaseEstimator, TransformerMixin\n",
        "\n",
        "\n",
        "\n",
        "url = \"https://drive.google.com/drive/folders/1K28d1ufLIZL6WtQIS4CE4H_EZZAzvTqX?usp=drive_link\"\n",
        "gdown.download_folder(url, quiet=True)"
      ],
      "metadata": {
        "id": "-K_GY-zxtvZA",
        "colab": {
          "base_uri": "https://localhost:8080/"
        },
        "outputId": "71eda951-cd02-4046-b4e9-3cc437a96957"
      },
      "execution_count": 1,
      "outputs": [
        {
          "output_type": "execute_result",
          "data": {
            "text/plain": [
              "['/content/Progetto/train.csv']"
            ]
          },
          "metadata": {},
          "execution_count": 1
        }
      ]
    },
    {
      "cell_type": "markdown",
      "source": [
        "# **New Chenjie preprocessing procedure**"
      ],
      "metadata": {
        "id": "GpCVublOal2S"
      }
    },
    {
      "cell_type": "code",
      "source": [
        "train=pd.read_csv('/content/Progetto/train.csv')\n",
        "train=train.drop_duplicates()\n",
        "train.drop(columns=['Cross_Street'],inplace=True)\n",
        "train['Weapon_Used_Code']=train['Weapon_Used_Code'].fillna(train['Weapon_Used_Code'].max()+ 1)\n",
        "mode_victim_sex_value = train['Victim_Sex'].mode().iloc[0]  # Find the most frequent value\n",
        "train['Victim_Sex']=train['Victim_Sex'].fillna(mode_victim_sex_value)\n",
        "mode_victim_descent_value = train['Victim_Descent'].mode().iloc[0]  # Find the most frequent value\n",
        "train['Victim_Descent']=train['Victim_Descent'].fillna(mode_victim_sex_value)\n",
        "mode_modus_operandi_value = train['Modus_Operandi'].mode().iloc[0]  # Find the most frequent value\n",
        "train['Modus_Operandi']=train['Modus_Operandi'].fillna(mode_modus_operandi_value)\n",
        "train['Modus_Operandi']=train['Modus_Operandi'].apply(lambda x:str(x).split(\" \") if x else [])\n",
        "train['Date_Reported'] = pd.to_datetime(train['Date_Reported'],format='%m/%d/%Y %I:%M:%S %p')\n",
        "train['Date_Occurred'] = pd.to_datetime(train['Date_Occurred'],format='%m/%d/%Y %I:%M:%S %p')\n",
        "train['Year_Reported'] = train['Date_Reported'].dt.year\n",
        "train['Month_Reported'] = train['Date_Reported'].dt.month\n",
        "train['Day_Reported'] = train['Date_Reported'].dt.day\n",
        "train['Year_Occurred'] = train['Date_Occurred'].dt.year\n",
        "train['Month_Occurred'] = train['Date_Occurred'].dt.month\n",
        "train['Day_Occurred'] = train['Date_Occurred'].dt.day\n",
        "train['Time_Occurred'] = train['Time_Occurred'].apply(lambda x: int(x // 100))\n",
        "label_encoder = LabelEncoder()\n",
        "train['Crime_Category'] = label_encoder.fit_transform(train['Crime_Category'])\n",
        "train.drop(columns=['Year_Occurred'],inplace=True)\n",
        "corr_df = train.corr(numeric_only=True)\n",
        "columns_to_convert = ['Latitude', 'Longitude', 'Area_ID','Reporting_District_no', 'Part 1-2', 'Victim_Age','Premise_Code','Weapon_Used_Code']\n",
        "train[columns_to_convert] = train[columns_to_convert].astype(int)\n",
        "included_columns=['Location', 'Latitude', 'Longitude','Area_ID','Reporting_District_no','Part 1-2','Modus_Operandi', 'Victim_Age','Victim_Sex', 'Victim_Descent', 'Premise_Code','Weapon_Used_Code','Status','Crime_Category', 'Year_Reported','Month_Reported', 'Day_Reported', 'Month_Occurred', 'Day_Occurred']\n",
        "new_train=train[included_columns]\n",
        "X = new_train.drop('Crime_Category', axis=1)\n",
        "y = new_train['Crime_Category']\n",
        "X_train, X_test, y_train, y_test = train_test_split(X, y, test_size=0.2, random_state=42)\n"
      ],
      "metadata": {
        "id": "WhuSDHaGalms"
      },
      "execution_count": null,
      "outputs": []
    },
    {
      "cell_type": "code",
      "source": [
        "# Custom Transformer for MultiLabelBinarizer for the feature Modus Operandi, which is multilabeled\n",
        "class MultiLabelBinarizerTransformer(BaseEstimator, TransformerMixin):\n",
        "    def __init__(self):\n",
        "        self.ml_binarizers = {}\n",
        "\n",
        "    def fit(self, X, y=None):\n",
        "        \"\"\"\n",
        "        Fit a MultiLabelBinarizer for each column in the input DataFrame.\n",
        "        \"\"\"\n",
        "        for column in X.columns:\n",
        "            mlb = MultiLabelBinarizer()\n",
        "            mlb.fit(X[column])\n",
        "            self.ml_binarizers[column] = mlb\n",
        "        return self\n",
        "\n",
        "    def transform(self, X):\n",
        "        \"\"\"\n",
        "        Transform the input DataFrame by applying the corresponding MultiLabelBinarizer\n",
        "        for each column and concatenating the binary matrices.\n",
        "        \"\"\"\n",
        "        X_transformed = []\n",
        "        for column in X.columns:\n",
        "            mlb = self.ml_binarizers[column]\n",
        "            transformed_data = mlb.transform(X[column])\n",
        "            # Create a DataFrame with meaningful column names\n",
        "            transformed_df = pd.DataFrame(\n",
        "                transformed_data,\n",
        "                columns=[f\"{column}_{cls}\" for cls in mlb.classes_]\n",
        "            )\n",
        "            X_transformed.append(transformed_df)\n",
        "        # Concatenate all transformed columns\n",
        "        return pd.concat(X_transformed, axis=1)\n",
        "# Define ColumnTransformer with merged transformers\n",
        "preprocessor = ColumnTransformer(\n",
        "    transformers=[\n",
        "        ('one_hot_encoder', OneHotEncoder(handle_unknown='ignore'),['Area_ID','Reporting_District_no','Part 1-2','Victim_Sex','Victim_Descent','Premise_Code','Weapon_Used_Code','Status','Victim_Sex','Location']),\n",
        "        ('minmax_scaler', MinMaxScaler(),['Latitude', 'Longitude','Victim_Age'])\n",
        "        , ('modus_operandi', MultiLabelBinarizerTransformer(),['Modus_Operandi'])\n",
        "        ],\n",
        "        remainder='passthrough'  # Pass through any remaining columns that are not specified in transformers\n",
        "        )\n",
        "pipeline = make_pipeline(\n",
        "    preprocessor,\n",
        "    StandardScaler(with_mean=False),\n",
        "    LogisticRegression()\n",
        ")"
      ],
      "metadata": {
        "id": "b9Sn-uzkb2l2"
      },
      "execution_count": null,
      "outputs": []
    },
    {
      "cell_type": "code",
      "source": [
        "# Define the parameter grid based on the logisticregression model\n",
        "grid = {\n",
        "    'logisticregression__C': [0.001, 0.01, 0.1, 1, 10],\n",
        "    'logisticregression__penalty': ['l1', 'l2'],\n",
        "    'logisticregression__solver': ['liblinear', 'newton-cg']\n",
        "}\n",
        "\n",
        "#pipe_cv = GridSearchCV(pipeline, grid, cv=5, scoring='accuracy')\n",
        "pipe_cv = GridSearchCV(pipeline,grid,cv=6,verbose=1,n_jobs=-1)\n",
        "if pipe_cv is not None:\n",
        "    pipe_cv.fit(X_train, y_train)\n",
        "\n",
        "    print(f\"Best score: {pipe_cv.best_score_}\")\n",
        "    for hp, val in pipe_cv.best_params_.items():\n",
        "        print(f\"{hp}: {val}\")\n",
        "\n",
        "#pipeline.fit(X_train,y_train)\n",
        "y_pred = pipe_cv.predict(X_test)\n",
        "print(\"Logistic Regression Model:\")\n",
        "print(\"Accuracy:\", accuracy_score(y_test, y_pred))\n",
        "print(\"Classification Report:\\n\", classification_report(y_test, y_pred))"
      ],
      "metadata": {
        "colab": {
          "base_uri": "https://localhost:8080/"
        },
        "id": "qSq5WnktcOTo",
        "outputId": "1307bf26-1320-4242-d61e-d5f9632a36be"
      },
      "execution_count": null,
      "outputs": [
        {
          "output_type": "stream",
          "name": "stdout",
          "text": [
            "Fitting 6 folds for each of 20 candidates, totalling 120 fits\n"
          ]
        },
        {
          "output_type": "stream",
          "name": "stderr",
          "text": [
            "/usr/local/lib/python3.10/dist-packages/sklearn/model_selection/_validation.py:540: FitFailedWarning: \n",
            "30 fits failed out of a total of 120.\n",
            "The score on these train-test partitions for these parameters will be set to nan.\n",
            "If these failures are not expected, you can try to debug them by setting error_score='raise'.\n",
            "\n",
            "Below are more details about the failures:\n",
            "--------------------------------------------------------------------------------\n",
            "30 fits failed with the following error:\n",
            "Traceback (most recent call last):\n",
            "  File \"/usr/local/lib/python3.10/dist-packages/sklearn/model_selection/_validation.py\", line 888, in _fit_and_score\n",
            "    estimator.fit(X_train, y_train, **fit_params)\n",
            "  File \"/usr/local/lib/python3.10/dist-packages/sklearn/base.py\", line 1473, in wrapper\n",
            "    return fit_method(estimator, *args, **kwargs)\n",
            "  File \"/usr/local/lib/python3.10/dist-packages/sklearn/pipeline.py\", line 473, in fit\n",
            "    self._final_estimator.fit(Xt, y, **last_step_params[\"fit\"])\n",
            "  File \"/usr/local/lib/python3.10/dist-packages/sklearn/base.py\", line 1473, in wrapper\n",
            "    return fit_method(estimator, *args, **kwargs)\n",
            "  File \"/usr/local/lib/python3.10/dist-packages/sklearn/linear_model/_logistic.py\", line 1194, in fit\n",
            "    solver = _check_solver(self.solver, self.penalty, self.dual)\n",
            "  File \"/usr/local/lib/python3.10/dist-packages/sklearn/linear_model/_logistic.py\", line 67, in _check_solver\n",
            "    raise ValueError(\n",
            "ValueError: Solver newton-cg supports only 'l2' or None penalties, got l1 penalty.\n",
            "\n",
            "  warnings.warn(some_fits_failed_message, FitFailedWarning)\n",
            "/usr/local/lib/python3.10/dist-packages/sklearn/model_selection/_search.py:1103: UserWarning: One or more of the test scores are non-finite: [0.84870846        nan 0.88048064 0.88642219 0.92982668        nan\n",
            " 0.90086947 0.90349627 0.93789465        nan 0.90631077 0.9094377\n",
            " 0.93739443        nan 0.9069986  0.91193931 0.92707489        nan\n",
            " 0.9063107  0.91287746]\n",
            "  warnings.warn(\n"
          ]
        },
        {
          "output_type": "stream",
          "name": "stdout",
          "text": [
            "Best score: 0.9378946488702585\n",
            "logisticregression__C: 0.1\n",
            "logisticregression__penalty: l1\n",
            "logisticregression__solver: liblinear\n",
            "Logistic Regression Model:\n",
            "Accuracy: 0.932216108054027\n",
            "Classification Report:\n",
            "               precision    recall  f1-score   support\n",
            "\n",
            "           0       0.71      0.42      0.52        53\n",
            "           1       0.78      0.80      0.79       364\n",
            "           2       0.93      0.88      0.90       274\n",
            "           3       0.67      0.06      0.11        34\n",
            "           4       0.97      0.98      0.98      2310\n",
            "           5       0.90      0.95      0.92       963\n",
            "\n",
            "    accuracy                           0.93      3998\n",
            "   macro avg       0.83      0.68      0.70      3998\n",
            "weighted avg       0.93      0.93      0.93      3998\n",
            "\n"
          ]
        },
        {
          "output_type": "stream",
          "name": "stderr",
          "text": [
            "/usr/local/lib/python3.10/dist-packages/sklearn/preprocessing/_label.py:900: UserWarning: unknown class(es) ['0347', '0350', '0402', '0410', '0437', '0543', '0547', '0550', '0933', '0946', '1012', '1021', '1239', '1248', '1277', '1316', '1411', '1538', '2011', '2019'] will be ignored\n",
            "  warnings.warn(\n"
          ]
        }
      ]
    },
    {
      "cell_type": "markdown",
      "source": [
        "# **Tuning the model**"
      ],
      "metadata": {
        "id": "d2edybz2douN"
      }
    },
    {
      "cell_type": "code",
      "source": [
        "# Define the parameter grid\n",
        "param_grid = {\n",
        "    'penalty': ['l1','l2'],\n",
        "    'C': [0.001, 0.01, 0.1, 1, 10],\n",
        "    'solver': ['liblinear','saga']\n",
        "}\n",
        "\n",
        "# Create a Logistic Regression model\n",
        "model = LogisticRegression()\n",
        "\n",
        "# Create a GridSearchCV object\n",
        "grid_search = GridSearchCV(model, param_grid, cv=5, n_jobs=-1)"
      ],
      "metadata": {
        "id": "K8H9SOCcdr3D"
      },
      "execution_count": 30,
      "outputs": []
    },
    {
      "cell_type": "markdown",
      "source": [
        "# **With one hot encoding**"
      ],
      "metadata": {
        "id": "HAG1mPvifkC7"
      }
    },
    {
      "cell_type": "code",
      "source": [
        "# data preprocessing with OneHot encoding\n",
        "X = pd.read_csv(\"/content/Progetto/train.csv\")\n",
        "def handle_dataset(X):\n",
        "  y = X['Crime_Category']\n",
        "  X = X.drop('Crime_Category', axis=1)\n",
        "\n",
        "  # remove column with 80% null values\n",
        "  X.drop('Cross_Street', axis=1)\n",
        "\n",
        "  # handle missing data\n",
        "  X['Victim_Sex'] = X['Victim_Sex'].replace(['H', 'X'], 'Unknown')\n",
        "  X['Victim_Descent'] = X['Victim_Descent'].fillna('Unknown')\n",
        "  X['Weapon_Description'] = X['Weapon_Description'].fillna('No Weapon')\n",
        "  X['Weapon_Used_Code'] = X['Weapon_Used_Code'].fillna(0) # Weapon_Used_Code is in the range [1,3990], 0 is for missing code\n",
        "  X['Modus_Operandi'] = X['Modus_Operandi'].fillna('Unknown')\n",
        "\n",
        "  # data handling\n",
        "  X['Date_Reported'] = pd.to_datetime(X['Date_Reported'], format='%m/%d/%Y %I:%M:%S %p', errors='coerce')\n",
        "  X['Date_Occurred'] = pd.to_datetime(X['Date_Occurred'], format='%m/%d/%Y %I:%M:%S %p', errors='coerce')\n",
        "  X['Year_Reported'] = X.Date_Reported.dt.year\n",
        "  X['Year_Occurred'] = X.Date_Occurred.dt.year\n",
        "  X['Month_Reported'] = X.Date_Reported.dt.month\n",
        "  X['Month_Occurred'] = X.Date_Occurred.dt.month\n",
        "  X['Day_Reported'] = X.Date_Reported.dt.day\n",
        "  X['Day_Occurred'] = X.Date_Occurred.dt.day\n",
        "  X.drop(['Date_Reported', 'Date_Occurred'], axis=1, inplace=True)\n",
        "\n",
        "  numerical_columns = X.select_dtypes(include=['int64', 'float64']).columns.tolist()\n",
        "  categorical_columns = X.select_dtypes(include=['object']).columns.tolist()\n",
        "  categorical_columns = [col for col in categorical_columns if col != 'Modus_Operandi']\n",
        "\n",
        "  numerical_pipeline = make_pipeline(\n",
        "      SimpleImputer(strategy='median'),\n",
        "      StandardScaler()\n",
        "  )\n",
        "\n",
        "  categorical_pipeline = make_pipeline(\n",
        "      SimpleImputer(strategy='most_frequent'),\n",
        "      OneHotEncoder(handle_unknown='ignore', sparse_output=False)\n",
        "      )\n",
        "\n",
        "  modus_operandi_pipeline = make_pipeline(\n",
        "      SimpleImputer(strategy='most_frequent'),\n",
        "      CountVectorizer(preprocessor=lambda x:x[0])\n",
        "  )\n",
        "\n",
        "  preprocessor = ColumnTransformer(transformers=[\n",
        "      ('num', numerical_pipeline, numerical_columns),\n",
        "      ('cat', categorical_pipeline, categorical_columns),\n",
        "      ('modus_operandi', modus_operandi_pipeline, ['Modus_Operandi'])\n",
        "    ])\n",
        "\n",
        "  #Split data\n",
        "  X_train, X_test, y_train, y_test = train_test_split(X, y, test_size=0.2, random_state=42)\n",
        "\n",
        "  # full pipeline\n",
        "  pipe = make_pipeline(\n",
        "    preprocessor,\n",
        "   LogisticRegression()\n",
        ")\n",
        "  #Transform data\n",
        "  # X_train = pipe.fit_transform(X_train)\n",
        "  # X_test = pipe.transform(X_test)\n",
        "  label_encoder = LabelEncoder()\n",
        "  y_train= label_encoder.fit_transform(y_train)\n",
        "  y_test=label_encoder.transform(y_test)\n",
        "  return X_train, X_test, y_train, y_test,pipe\n"
      ],
      "metadata": {
        "id": "paoUNWn6wlkP"
      },
      "execution_count": 43,
      "outputs": []
    },
    {
      "cell_type": "code",
      "source": [
        "X_train,X_test,y_train,y_test,pipe=handle_dataset(X)\n",
        "# Define the parameter grid based on the logisticregression model\n",
        "grid = {\n",
        "    'logisticregression__C': [0.001, 0.01, 0.1, 1, 10],\n",
        "    'logisticregression__penalty': ['l1', 'l2'],\n",
        "    'logisticregression__solver': ['liblinear', 'newton-cg']\n",
        "}\n",
        "#pipe_cv = GridSearchCV(pipeline, grid, cv=5, scoring='accuracy')\n",
        "pipe_cv = GridSearchCV(pipe,grid,cv=2,verbose=1,n_jobs=-1)\n",
        "\n",
        "if pipe_cv is not None:\n",
        "    pipe_cv.fit(X_train, y_train)\n",
        "\n",
        "    print(f\"Best score: {pipe_cv.best_score_}\")\n",
        "    for hp, val in pipe_cv.best_params_.items():\n",
        "        print(f\"{hp}: {val}\")\n",
        "\n",
        "#pipeline.fit(X_train,y_train)\n",
        "y_pred = pipe_cv.predict(X_test)\n",
        "print(\"Logistic Regression Model:\")\n",
        "print(\"Accuracy:\", accuracy_score(y_test, y_pred))\n",
        "print(\"Classification Report:\\n\", classification_report(y_test, y_pred))"
      ],
      "metadata": {
        "colab": {
          "base_uri": "https://localhost:8080/"
        },
        "id": "jq9s1JaPKqI-",
        "outputId": "55550f66-4f61-4523-c72e-e6fbdfc6d7e2"
      },
      "execution_count": 45,
      "outputs": [
        {
          "output_type": "stream",
          "name": "stdout",
          "text": [
            "Fitting 2 folds for each of 20 candidates, totalling 40 fits\n"
          ]
        },
        {
          "output_type": "stream",
          "name": "stderr",
          "text": [
            "/usr/local/lib/python3.10/dist-packages/sklearn/model_selection/_validation.py:540: FitFailedWarning: \n",
            "10 fits failed out of a total of 40.\n",
            "The score on these train-test partitions for these parameters will be set to nan.\n",
            "If these failures are not expected, you can try to debug them by setting error_score='raise'.\n",
            "\n",
            "Below are more details about the failures:\n",
            "--------------------------------------------------------------------------------\n",
            "10 fits failed with the following error:\n",
            "Traceback (most recent call last):\n",
            "  File \"/usr/local/lib/python3.10/dist-packages/sklearn/model_selection/_validation.py\", line 888, in _fit_and_score\n",
            "    estimator.fit(X_train, y_train, **fit_params)\n",
            "  File \"/usr/local/lib/python3.10/dist-packages/sklearn/base.py\", line 1473, in wrapper\n",
            "    return fit_method(estimator, *args, **kwargs)\n",
            "  File \"/usr/local/lib/python3.10/dist-packages/sklearn/pipeline.py\", line 473, in fit\n",
            "    self._final_estimator.fit(Xt, y, **last_step_params[\"fit\"])\n",
            "  File \"/usr/local/lib/python3.10/dist-packages/sklearn/base.py\", line 1473, in wrapper\n",
            "    return fit_method(estimator, *args, **kwargs)\n",
            "  File \"/usr/local/lib/python3.10/dist-packages/sklearn/linear_model/_logistic.py\", line 1194, in fit\n",
            "    solver = _check_solver(self.solver, self.penalty, self.dual)\n",
            "  File \"/usr/local/lib/python3.10/dist-packages/sklearn/linear_model/_logistic.py\", line 67, in _check_solver\n",
            "    raise ValueError(\n",
            "ValueError: Solver newton-cg supports only 'l2' or None penalties, got l1 penalty.\n",
            "\n",
            "  warnings.warn(some_fits_failed_message, FitFailedWarning)\n",
            "/usr/local/lib/python3.10/dist-packages/sklearn/model_selection/_search.py:1103: UserWarning: One or more of the test scores are non-finite: [0.728125        nan 0.7636875 0.7660625 0.8429375       nan 0.890125\n",
            " 0.904625  0.9245625       nan 0.934375  0.9400625 0.9458125       nan\n",
            " 0.945125  0.9445    0.9465          nan 0.9436875 0.9440625]\n",
            "  warnings.warn(\n"
          ]
        },
        {
          "output_type": "stream",
          "name": "stdout",
          "text": [
            "Best score: 0.9464999999999999\n",
            "logisticregression__C: 10\n",
            "logisticregression__penalty: l1\n",
            "logisticregression__solver: liblinear\n",
            "Logistic Regression Model:\n",
            "Accuracy: 0.952\n",
            "Classification Report:\n",
            "               precision    recall  f1-score   support\n",
            "\n",
            "           0       0.60      0.47      0.53        32\n",
            "           1       0.85      0.86      0.85       374\n",
            "           2       0.95      0.94      0.94       267\n",
            "           3       0.59      0.29      0.38        35\n",
            "           4       0.98      0.99      0.99      2303\n",
            "           5       0.93      0.95      0.94       989\n",
            "\n",
            "    accuracy                           0.95      4000\n",
            "   macro avg       0.82      0.75      0.77      4000\n",
            "weighted avg       0.95      0.95      0.95      4000\n",
            "\n"
          ]
        }
      ]
    },
    {
      "cell_type": "code",
      "source": [
        "# X_train,X_test,y_train,y_test,pipe=handle_dataset(X)\n",
        "# # model=LogisticRegression()\n",
        "# # Fit the GridSearchCV object to the training data\n",
        "# grid_search.fit(X_train, y_train)\n",
        "# # Get the best parameters\n",
        "# best_params = grid_search.best_params_\n",
        "# # Get the best estimator\n",
        "# best_model = grid_search.best_estimator_\n",
        "# # model.fit(X_train,y_train)\n",
        "# # Visualize the Confusion Matrix\n",
        "# y_pred = best_model.predict(X_test)\n",
        "# conf_matrix = confusion_matrix(y_test, y_pred)\n",
        "# print('\\n')\n",
        "# plt.figure(figsize=(10, 7))\n",
        "# sns.heatmap(conf_matrix, annot=True, fmt='d', cmap='Blues', xticklabels=np.unique(y_test), yticklabels=np.unique(y_test))\n",
        "# plt.xlabel('Predicted')\n",
        "# plt.ylabel('True')\n",
        "# plt.title('Confusion Matrix')\n",
        "# plt.show()\n",
        "# #model.score(X_test,y_test)\n",
        "# report=classification_report(y_test,y_pred)\n",
        "# print(report)\n",
        "# print(accuracy_score(y_test,y_pred))\n",
        "# # Print the best parameters and score\n",
        "# best_params = grid_search.best_params_\n",
        "# print(best_params)\n"
      ],
      "metadata": {
        "id": "_FCxlGOGijvm"
      },
      "execution_count": 46,
      "outputs": []
    },
    {
      "cell_type": "code",
      "source": [
        "# X_train, X_test, y_train, y_test=handle_dataset(X)\n",
        "# model.fit(X_train,y_train)\n",
        "# # Visualize the Confusion Matrix\n",
        "# y_pred = model.predict(X_test)\n",
        "# conf_matrix = confusion_matrix(y_test, y_pred)\n",
        "# print('\\n')\n",
        "# plt.figure(figsize=(10, 7))\n",
        "# sns.heatmap(conf_matrix, annot=True, fmt='d', cmap='Blues', xticklabels=np.unique(y_test), yticklabels=np.unique(y_test))\n",
        "# plt.xlabel('Predicted')\n",
        "# plt.ylabel('True')\n",
        "# plt.title('Confusion Matrix')\n",
        "# plt.show()\n",
        "# model.score(X_test,y_test)\n",
        "# report=classification_report(y_test,y_pred)\n",
        "# print(report)\n",
        "\n",
        "\n"
      ],
      "metadata": {
        "id": "nzS0poZLrrj7"
      },
      "execution_count": 47,
      "outputs": []
    },
    {
      "cell_type": "code",
      "source": [
        "print(accuracy_score(y_test,y_pred))"
      ],
      "metadata": {
        "colab": {
          "base_uri": "https://localhost:8080/"
        },
        "id": "fVrH4EQIhRg8",
        "outputId": "bb874312-c520-4d8b-9b45-864a32ed09bf"
      },
      "execution_count": null,
      "outputs": [
        {
          "output_type": "stream",
          "name": "stdout",
          "text": [
            "0.949\n"
          ]
        }
      ]
    },
    {
      "cell_type": "markdown",
      "source": [
        "# **With label encoding**"
      ],
      "metadata": {
        "id": "_YXH7X8kgzvy"
      }
    },
    {
      "cell_type": "code",
      "source": [
        "# # data preprocessing with Label encoding\n",
        "# X = pd.read_csv(\"/content/Progetto/train.csv\")\n",
        "# def handle_dataset_v2(X):\n",
        "#   y = X['Crime_Category']\n",
        "#   X = X.drop('Crime_Category', axis=1)\n",
        "\n",
        "#   # remove column with 80% null values\n",
        "#   X.drop('Cross_Street', axis=1)\n",
        "\n",
        "#   # handle missing data\n",
        "#   X['Victim_Sex'] = X['Victim_Sex'].replace(['H', 'X'], 'Unknown')\n",
        "#   X['Victim_Descent'] = X['Victim_Descent'].fillna('Unknown')\n",
        "#   X['Weapon_Description'] = X['Weapon_Description'].fillna('No Weapon')\n",
        "#   X['Weapon_Used_Code'] = X['Weapon_Used_Code'].fillna(0) # Weapon_Used_Code is in the range [1,3990], 0 is for missing code\n",
        "#   X['Modus_Operandi'] = X['Modus_Operandi'].fillna('Unknown')\n",
        "\n",
        "#   # data handling\n",
        "#   X['Date_Reported'] = pd.to_datetime(X['Date_Reported'], format='%m/%d/%Y %I:%M:%S %p', errors='coerce')\n",
        "#   X['Date_Occurred'] = pd.to_datetime(X['Date_Occurred'], format='%m/%d/%Y %I:%M:%S %p', errors='coerce')\n",
        "#   X['Year_Reported'] = X.Date_Reported.dt.year\n",
        "#   X['Year_Occurred'] = X.Date_Occurred.dt.year\n",
        "#   X['Month_Reported'] = X.Date_Reported.dt.month\n",
        "#   X['Month_Occurred'] = X.Date_Occurred.dt.month\n",
        "#   X['Day_Reported'] = X.Date_Reported.dt.day\n",
        "#   X['Day_Occurred'] = X.Date_Occurred.dt.day\n",
        "#   X.drop(['Date_Reported', 'Date_Occurred'], axis=1, inplace=True)\n",
        "\n",
        "#   X_train, X_test, y_train, y_test = train_test_split(X, y, test_size=0.2, random_state=42)\n",
        "\n",
        "\n",
        "#   numerical_columns = X.select_dtypes(include=['int64', 'float64']).columns.tolist()\n",
        "#   categorical_columns = X.select_dtypes(include=['object']).columns.tolist()\n",
        "\n",
        "#   numerical_pipeline = make_pipeline(\n",
        "#       SimpleImputer(strategy='median'),\n",
        "#       StandardScaler()\n",
        "#   )\n",
        "\n",
        "#   def label_encoding_column(df, column):\n",
        "#       lab_encoder = LabelEncoder()\n",
        "#       df[column] = lab_encoder.fit_transform(df[column])\n",
        "#       return df\n",
        "\n",
        "#   for col in categorical_columns:\n",
        "#     if col == 'Modus_Operandi':\n",
        "#       continue\n",
        "#     X = label_encoding_column(X, col)\n",
        "\n",
        "#   modus_operandi_pipeline = make_pipeline(\n",
        "#       SimpleImputer(strategy='most_frequent'),\n",
        "#       CountVectorizer(preprocessor=lambda x:x[0])\n",
        "#   )\n",
        "\n",
        "#   preprocessor = ColumnTransformer(transformers=[\n",
        "#       ('num', numerical_pipeline, numerical_columns),\n",
        "#       ('modus_operandi', modus_operandi_pipeline, ['Modus_Operandi'])\n",
        "#     ])\n",
        "\n",
        "#   # full pipeline\n",
        "#   pipe = make_pipeline(\n",
        "#       preprocessor\n",
        "#   )\n",
        "\n",
        "#   X_train = pipe.fit_transform(X_train)\n",
        "#   X_test = pipe.transform(X_test)\n",
        "#   return X_train,X_test,y_train,y_test\n"
      ],
      "metadata": {
        "id": "1J54xFzmwuoh"
      },
      "execution_count": 48,
      "outputs": []
    },
    {
      "cell_type": "code",
      "source": [
        "# data preprocessing with Label encoding\n",
        "X = pd.read_csv(\"/content/Progetto/train.csv\")\n",
        "def handle_dataset_v2(X):\n",
        "  y = X['Crime_Category']\n",
        "  X = X.drop('Crime_Category', axis=1)\n",
        "\n",
        "  # remove column with 80% null values\n",
        "  X.drop('Cross_Street', axis=1)\n",
        "\n",
        "  # handle missing data\n",
        "  X['Victim_Sex'] = X['Victim_Sex'].replace(['H', 'X'], 'Unknown')\n",
        "  X['Victim_Descent'] = X['Victim_Descent'].fillna('Unknown')\n",
        "  X['Weapon_Description'] = X['Weapon_Description'].fillna('No Weapon')\n",
        "  X['Weapon_Used_Code'] = X['Weapon_Used_Code'].fillna(0) # Weapon_Used_Code is in the range [1,3990], 0 is for missing code\n",
        "  X['Modus_Operandi'] = X['Modus_Operandi'].fillna('Unknown')\n",
        "\n",
        "  # data handling\n",
        "  X['Date_Reported'] = pd.to_datetime(X['Date_Reported'], format='%m/%d/%Y %I:%M:%S %p', errors='coerce')\n",
        "  X['Date_Occurred'] = pd.to_datetime(X['Date_Occurred'], format='%m/%d/%Y %I:%M:%S %p', errors='coerce')\n",
        "  X['Year_Reported'] = X.Date_Reported.dt.year\n",
        "  X['Year_Occurred'] = X.Date_Occurred.dt.year\n",
        "  X['Month_Reported'] = X.Date_Reported.dt.month\n",
        "  X['Month_Occurred'] = X.Date_Occurred.dt.month\n",
        "  X['Day_Reported'] = X.Date_Reported.dt.day\n",
        "  X['Day_Occurred'] = X.Date_Occurred.dt.day\n",
        "  X.drop(['Date_Reported', 'Date_Occurred'], axis=1, inplace=True)\n",
        "\n",
        "  X_train, X_test, y_train, y_test = train_test_split(X, y, test_size=0.2, random_state=42)\n",
        "\n",
        "\n",
        "  numerical_columns = X.select_dtypes(include=['int64', 'float64']).columns.tolist()\n",
        "  categorical_columns = X.select_dtypes(include=['object']).columns.tolist()\n",
        "\n",
        "  numerical_pipeline = make_pipeline(\n",
        "      SimpleImputer(strategy='median'),\n",
        "      StandardScaler()\n",
        "  )\n",
        "\n",
        "  def label_encoding_column(df, column):\n",
        "      lab_encoder = LabelEncoder()\n",
        "      df[column] = lab_encoder.fit_transform(df[column])\n",
        "      return df\n",
        "\n",
        "  for col in categorical_columns:\n",
        "    if col == 'Modus_Operandi':\n",
        "      continue\n",
        "    X = label_encoding_column(X, col)\n",
        "\n",
        "  modus_operandi_pipeline = make_pipeline(\n",
        "      SimpleImputer(strategy='most_frequent'),\n",
        "      CountVectorizer(preprocessor=lambda x:x[0])\n",
        "  )\n",
        "\n",
        "  preprocessor = ColumnTransformer(transformers=[\n",
        "      ('num', numerical_pipeline, numerical_columns),\n",
        "      ('modus_operandi', modus_operandi_pipeline, ['Modus_Operandi'])\n",
        "    ])\n",
        "\n",
        "# full pipeline\n",
        "  pipe = make_pipeline(\n",
        "    preprocessor,\n",
        "   LogisticRegression()\n",
        ")\n",
        "  #Transform data\n",
        "  label_encoder = LabelEncoder()\n",
        "  y_train= label_encoder.fit_transform(y_train)\n",
        "  y_test=label_encoder.transform(y_test)\n",
        "  return X_train, X_test, y_train, y_test,pipe"
      ],
      "metadata": {
        "id": "r7XSf9GpUV8U"
      },
      "execution_count": 41,
      "outputs": []
    },
    {
      "cell_type": "code",
      "source": [
        "X_train,X_test,y_train,y_test,pipe=handle_dataset_v2(X)\n",
        "# Define the parameter grid based on the logisticregression model\n",
        "grid = {\n",
        "    'logisticregression__C': [0.001, 0.01, 0.1, 1, 10],\n",
        "    'logisticregression__penalty': ['l1', 'l2'],\n",
        "    'logisticregression__solver': ['liblinear', 'newton-cg']\n",
        "}\n",
        "#pipe_cv = GridSearchCV(pipeline, grid, cv=5, scoring='accuracy')\n",
        "pipe_cv = GridSearchCV(pipe,grid,cv=6,verbose=1,n_jobs=-1)\n",
        "\n",
        "if pipe_cv is not None:\n",
        "    pipe_cv.fit(X_train, y_train)\n",
        "\n",
        "    print(f\"Best score: {pipe_cv.best_score_}\")\n",
        "    for hp, val in pipe_cv.best_params_.items():\n",
        "        print(f\"{hp}: {val}\")\n",
        "\n",
        "#pipeline.fit(X_train,y_train)\n",
        "y_pred = pipe_cv.predict(X_test)\n",
        "print(\"Logistic Regression Model:\")\n",
        "print(\"Accuracy:\", accuracy_score(y_test, y_pred))\n",
        "print(\"Classification Report:\\n\", classification_report(y_test, y_pred))"
      ],
      "metadata": {
        "colab": {
          "base_uri": "https://localhost:8080/"
        },
        "id": "sDoo7a0UURBr",
        "outputId": "bb64e556-f293-4fb0-f2ed-063c922973bf"
      },
      "execution_count": 42,
      "outputs": [
        {
          "output_type": "stream",
          "name": "stdout",
          "text": [
            "Fitting 6 folds for each of 20 candidates, totalling 120 fits\n"
          ]
        },
        {
          "output_type": "stream",
          "name": "stderr",
          "text": [
            "/usr/local/lib/python3.10/dist-packages/sklearn/model_selection/_validation.py:540: FitFailedWarning: \n",
            "30 fits failed out of a total of 120.\n",
            "The score on these train-test partitions for these parameters will be set to nan.\n",
            "If these failures are not expected, you can try to debug them by setting error_score='raise'.\n",
            "\n",
            "Below are more details about the failures:\n",
            "--------------------------------------------------------------------------------\n",
            "30 fits failed with the following error:\n",
            "Traceback (most recent call last):\n",
            "  File \"/usr/local/lib/python3.10/dist-packages/sklearn/model_selection/_validation.py\", line 888, in _fit_and_score\n",
            "    estimator.fit(X_train, y_train, **fit_params)\n",
            "  File \"/usr/local/lib/python3.10/dist-packages/sklearn/base.py\", line 1473, in wrapper\n",
            "    return fit_method(estimator, *args, **kwargs)\n",
            "  File \"/usr/local/lib/python3.10/dist-packages/sklearn/pipeline.py\", line 473, in fit\n",
            "    self._final_estimator.fit(Xt, y, **last_step_params[\"fit\"])\n",
            "  File \"/usr/local/lib/python3.10/dist-packages/sklearn/base.py\", line 1473, in wrapper\n",
            "    return fit_method(estimator, *args, **kwargs)\n",
            "  File \"/usr/local/lib/python3.10/dist-packages/sklearn/linear_model/_logistic.py\", line 1194, in fit\n",
            "    solver = _check_solver(self.solver, self.penalty, self.dual)\n",
            "  File \"/usr/local/lib/python3.10/dist-packages/sklearn/linear_model/_logistic.py\", line 67, in _check_solver\n",
            "    raise ValueError(\n",
            "ValueError: Solver newton-cg supports only 'l2' or None penalties, got l1 penalty.\n",
            "\n",
            "  warnings.warn(some_fits_failed_message, FitFailedWarning)\n",
            "/usr/local/lib/python3.10/dist-packages/sklearn/model_selection/_search.py:1103: UserWarning: One or more of the test scores are non-finite: [0.71950018        nan 0.80687516 0.78887527 0.85487504        nan\n",
            " 0.88318759 0.89912493 0.92387519        nan 0.92887526 0.93468781\n",
            " 0.94312538        nan 0.9409378  0.94231289 0.94275017        nan\n",
            " 0.94362511 0.94168776]\n",
            "  warnings.warn(\n"
          ]
        },
        {
          "output_type": "stream",
          "name": "stdout",
          "text": [
            "Best score: 0.943625107626738\n",
            "logisticregression__C: 10\n",
            "logisticregression__penalty: l2\n",
            "logisticregression__solver: liblinear\n",
            "Logistic Regression Model:\n",
            "Accuracy: 0.9455\n",
            "Classification Report:\n",
            "               precision    recall  f1-score   support\n",
            "\n",
            "           0       0.60      0.47      0.53        32\n",
            "           1       0.82      0.82      0.82       374\n",
            "           2       0.93      0.94      0.94       267\n",
            "           3       0.55      0.31      0.40        35\n",
            "           4       0.98      0.99      0.98      2303\n",
            "           5       0.93      0.94      0.93       989\n",
            "\n",
            "    accuracy                           0.95      4000\n",
            "   macro avg       0.80      0.74      0.77      4000\n",
            "weighted avg       0.94      0.95      0.94      4000\n",
            "\n"
          ]
        }
      ]
    },
    {
      "cell_type": "code",
      "source": [
        "\n",
        "# X_train,X_test,y_train,y_test=handle_dataset_v2(X)\n",
        "# # model=LogisticRegression()\n",
        "# # Fit the GridSearchCV object to the training data\n",
        "# grid_search.fit(X_train, y_train)\n",
        "# # Get the best parameters\n",
        "# best_params = grid_search.best_params_\n",
        "# # Get the best estimator\n",
        "# best_model = grid_search.best_estimator_\n",
        "# # model.fit(X_train,y_train)\n",
        "# # Visualize the Confusion Matrix\n",
        "# y_pred = best_model.predict(X_test)\n",
        "# conf_matrix = confusion_matrix(y_test, y_pred)\n",
        "# print('\\n')\n",
        "# plt.figure(figsize=(10, 7))\n",
        "# sns.heatmap(conf_matrix, annot=True, fmt='d', cmap='Blues', xticklabels=np.unique(y_test), yticklabels=np.unique(y_test))\n",
        "# plt.xlabel('Predicted')\n",
        "# plt.ylabel('True')\n",
        "# plt.title('Confusion Matrix')\n",
        "# plt.show()\n",
        "# #model.score(X_test,y_test)\n",
        "# report=classification_report(y_test,y_pred)\n",
        "# print(report)\n",
        "# print(\"Accuracy score:\",accuracy_score(y_test,y_pred))\n",
        "# # Print the best parameters and score\n",
        "# best_params = grid_search.best_params_\n",
        "# print(best_params)\n",
        "\n"
      ],
      "metadata": {
        "id": "qmJo3E32x90f"
      },
      "execution_count": 49,
      "outputs": []
    },
    {
      "cell_type": "code",
      "source": [
        "print(accuracy_score())"
      ],
      "metadata": {
        "id": "IYtGR9LDHani"
      },
      "execution_count": null,
      "outputs": []
    },
    {
      "cell_type": "markdown",
      "source": [
        "# **Nurbek`s data preprocessing**"
      ],
      "metadata": {
        "id": "2XN83D7fDS2T"
      }
    },
    {
      "cell_type": "code",
      "source": [
        "label_encoder = LabelEncoder()\n",
        "train_df=pd.read_csv('/content/Progetto/train.csv')\n",
        "train_df['Crime_Category'] = label_encoder.fit_transform(train_df['Crime_Category'])\n",
        "X = train_df.drop(columns=['Crime_Category'])\n",
        "y = train_df['Crime_Category']\n",
        "# Split features into numerical and categorical columns\n",
        "numerical_columns = X.select_dtypes(include=['float64', 'int64']).columns\n",
        "categorical_columns = X.select_dtypes(include=['object']).columns\n",
        "# Handle missing values\n",
        "X[numerical_columns] = X[numerical_columns].fillna(X[numerical_columns].median())\n",
        "X[categorical_columns] = X[categorical_columns].fillna('Unknown')\n",
        "# Convert categorical features to numeric\n",
        "label_encoders = {}\n",
        "for col in categorical_columns:\n",
        "    le = LabelEncoder()\n",
        "    X[col] = le.fit_transform(X[col])\n",
        "    label_encoders[col] = le\n",
        "    # Scale numerical features\n",
        "scaler = StandardScaler()\n",
        "X[numerical_columns] = scaler.fit_transform(X[numerical_columns])\n",
        "\n",
        "# Step 2: Split data into training and test sets\n",
        "X_train, X_test, y_train, y_test = train_test_split(X, y, test_size=0.2, random_state=42)"
      ],
      "metadata": {
        "id": "fuJOgN-QDRv6"
      },
      "execution_count": 3,
      "outputs": []
    },
    {
      "cell_type": "code",
      "source": [
        "grid_search.fit(X_train, y_train)\n",
        "# Get the best parameters\n",
        "best_params = grid_search.best_params_\n",
        "# Get the best estimator\n",
        "best_model = grid_search.best_estimator_\n",
        "# model.fit(X_train,y_train)\n",
        "# Visualize the Confusion Matrix\n",
        "y_pred = best_model.predict(X_test)\n",
        "conf_matrix = confusion_matrix(y_test, y_pred)\n",
        "print('\\n')\n",
        "plt.figure(figsize=(10, 7))\n",
        "sns.heatmap(conf_matrix, annot=True, fmt='d', cmap='Blues', xticklabels=np.unique(y_test), yticklabels=np.unique(y_test))\n",
        "plt.xlabel('Predicted')\n",
        "plt.ylabel('True')\n",
        "plt.title('Confusion Matrix')\n",
        "plt.show()\n",
        "#model.score(X_test,y_test)\n",
        "report=classification_report(y_test,y_pred)\n",
        "print(report)\n",
        "print(accuracy_score(y_test,y_pred))\n",
        "# Print the best parameters and score\n",
        "best_params = grid_search.best_params_\n",
        "print(best_params)\n"
      ],
      "metadata": {
        "colab": {
          "base_uri": "https://localhost:8080/",
          "height": 1000
        },
        "id": "wbDDchRJD0El",
        "outputId": "4a5460c3-2706-43e9-dbe1-753527df729b"
      },
      "execution_count": 4,
      "outputs": [
        {
          "output_type": "stream",
          "name": "stderr",
          "text": [
            "/usr/local/lib/python3.10/dist-packages/sklearn/model_selection/_validation.py:540: FitFailedWarning: \n",
            "25 fits failed out of a total of 100.\n",
            "The score on these train-test partitions for these parameters will be set to nan.\n",
            "If these failures are not expected, you can try to debug them by setting error_score='raise'.\n",
            "\n",
            "Below are more details about the failures:\n",
            "--------------------------------------------------------------------------------\n",
            "25 fits failed with the following error:\n",
            "Traceback (most recent call last):\n",
            "  File \"/usr/local/lib/python3.10/dist-packages/sklearn/model_selection/_validation.py\", line 888, in _fit_and_score\n",
            "    estimator.fit(X_train, y_train, **fit_params)\n",
            "  File \"/usr/local/lib/python3.10/dist-packages/sklearn/base.py\", line 1473, in wrapper\n",
            "    return fit_method(estimator, *args, **kwargs)\n",
            "  File \"/usr/local/lib/python3.10/dist-packages/sklearn/linear_model/_logistic.py\", line 1194, in fit\n",
            "    solver = _check_solver(self.solver, self.penalty, self.dual)\n",
            "  File \"/usr/local/lib/python3.10/dist-packages/sklearn/linear_model/_logistic.py\", line 67, in _check_solver\n",
            "    raise ValueError(\n",
            "ValueError: Solver newton-cg supports only 'l2' or None penalties, got l1 penalty.\n",
            "\n",
            "  warnings.warn(some_fits_failed_message, FitFailedWarning)\n",
            "/usr/local/lib/python3.10/dist-packages/sklearn/model_selection/_search.py:1103: UserWarning: One or more of the test scores are non-finite: [0.6934375       nan 0.701625  0.7296875 0.7145625       nan 0.7165\n",
            " 0.738875  0.7655          nan 0.72125   0.740375  0.7708125       nan\n",
            " 0.7226875 0.74175   0.771           nan 0.7211875 0.7410625]\n",
            "  warnings.warn(\n"
          ]
        },
        {
          "output_type": "stream",
          "name": "stdout",
          "text": [
            "\n",
            "\n"
          ]
        },
        {
          "output_type": "display_data",
          "data": {
            "text/plain": [
              "<Figure size 1000x700 with 2 Axes>"
            ],
            "image/png": "[encoded data removed]"
          },
          "metadata": {}
        },
        {
          "output_type": "stream",
          "name": "stdout",
          "text": [
            "              precision    recall  f1-score   support\n",
            "\n",
            "           0       0.43      0.09      0.15        32\n",
            "           1       0.76      0.07      0.14       374\n",
            "           2       0.59      0.69      0.64       267\n",
            "           3       0.50      0.03      0.05        35\n",
            "           4       0.85      0.92      0.89      2303\n",
            "           5       0.68      0.78      0.73       989\n",
            "\n",
            "    accuracy                           0.78      4000\n",
            "   macro avg       0.63      0.43      0.43      4000\n",
            "weighted avg       0.77      0.78      0.75      4000\n",
            "\n",
            "0.77875\n",
            "{'C': 10, 'penalty': 'l1', 'solver': 'liblinear'}\n"
          ]
        }
      ]
    }
  ]
}