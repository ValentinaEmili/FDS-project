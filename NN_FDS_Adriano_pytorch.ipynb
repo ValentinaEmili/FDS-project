{
  "nbformat": 4,
  "nbformat_minor": 0,
  "metadata": {
    "colab": {
      "provenance": [],
      "gpuType": "T4"
    },
    "kernelspec": {
      "name": "python3",
      "display_name": "Python 3"
    },
    "language_info": {
      "name": "python"
    },
    "accelerator": "GPU"
  },
  "cells": [
    {
      "cell_type": "code",
      "execution_count": 1,
      "metadata": {
        "colab": {
          "base_uri": "https://localhost:8080/"
        },
        "id": "cn-QfCscin-v",
        "outputId": "c1f1988d-5237-4295-b534-c38e44c54588"
      },
      "outputs": [
        {
          "output_type": "stream",
          "name": "stdout",
          "text": [
            "Requirement already satisfied: gdown in /usr/local/lib/python3.10/dist-packages (5.2.0)\n",
            "Requirement already satisfied: beautifulsoup4 in /usr/local/lib/python3.10/dist-packages (from gdown) (4.12.3)\n",
            "Requirement already satisfied: filelock in /usr/local/lib/python3.10/dist-packages (from gdown) (3.16.1)\n",
            "Requirement already satisfied: requests[socks] in /usr/local/lib/python3.10/dist-packages (from gdown) (2.32.3)\n",
            "Requirement already satisfied: tqdm in /usr/local/lib/python3.10/dist-packages (from gdown) (4.66.6)\n",
            "Requirement already satisfied: soupsieve>1.2 in /usr/local/lib/python3.10/dist-packages (from beautifulsoup4->gdown) (2.6)\n",
            "Requirement already satisfied: charset-normalizer<4,>=2 in /usr/local/lib/python3.10/dist-packages (from requests[socks]->gdown) (3.4.0)\n",
            "Requirement already satisfied: idna<4,>=2.5 in /usr/local/lib/python3.10/dist-packages (from requests[socks]->gdown) (3.10)\n",
            "Requirement already satisfied: urllib3<3,>=1.21.1 in /usr/local/lib/python3.10/dist-packages (from requests[socks]->gdown) (2.2.3)\n",
            "Requirement already satisfied: certifi>=2017.4.17 in /usr/local/lib/python3.10/dist-packages (from requests[socks]->gdown) (2024.8.30)\n",
            "Requirement already satisfied: PySocks!=1.5.7,>=1.5.6 in /usr/local/lib/python3.10/dist-packages (from requests[socks]->gdown) (1.7.1)\n"
          ]
        },
        {
          "output_type": "execute_result",
          "data": {
            "text/plain": [
              "['/content/Dataset/test.csv',\n",
              " '/content/Dataset/train.csv',\n",
              " '/content/Dataset/training.csv']"
            ]
          },
          "metadata": {},
          "execution_count": 1
        }
      ],
      "source": [
        "%pip install gdown\n",
        "import gdown\n",
        "import pandas as pd\n",
        "import numpy as np\n",
        "import torch\n",
        "import torch.nn as nn\n",
        "import torch.optim as optim\n",
        "from torch.utils.data import DataLoader, TensorDataset\n",
        "from torch.optim.lr_scheduler import StepLR\n",
        "from tqdm import tqdm\n",
        "from sklearn.model_selection import train_test_split, KFold\n",
        "from sklearn.compose import ColumnTransformer\n",
        "from sklearn.pipeline import make_pipeline\n",
        "from sklearn.preprocessing import LabelEncoder, StandardScaler\n",
        "from sklearn.impute import SimpleImputer\n",
        "from sklearn.feature_extraction.text import CountVectorizer\n",
        "from sklearn.metrics import confusion_matrix, classification_report\n",
        "from torch.utils.data import Subset\n",
        "import torch.nn.functional as F\n",
        "import seaborn as sns\n",
        "import matplotlib.pyplot as plt\n",
        "\n",
        "url = \"https://drive.google.com/drive/folders/1gq7XBf4MKWi2JpCHdfjiPXzu8Db2p31n?usp=sharing\"\n",
        "gdown.download_folder(url, quiet=True)"
      ]
    },
    {
      "cell_type": "markdown",
      "source": [
        "**PREPROCESSING OF THE DATA**"
      ],
      "metadata": {
        "id": "89TSbIUutDcF"
      }
    },
    {
      "cell_type": "code",
      "source": [
        "X = pd.read_csv(\"Dataset/train.csv\", sep=';')\n",
        "y = X['Crime_Category']\n",
        "X = X.drop('Crime_Category', axis=1)\n",
        "\n",
        "# Delete useless column\n",
        "X.drop('Cross_Street', axis=1, inplace=True)\n",
        "\n",
        "# Uknown values management\n",
        "X['Victim_Sex'] = X['Victim_Sex'].replace(['H', 'X'], 'Unknown')\n",
        "X['Victim_Descent'] = X['Victim_Descent'].fillna('Unknown')\n",
        "X['Weapon_Description'] = X['Weapon_Description'].fillna('No Weapon')\n",
        "X['Weapon_Used_Code'] = X['Weapon_Used_Code'].fillna(0)\n",
        "X['Modus_Operandi'] = X['Modus_Operandi'].fillna('Unknown')\n",
        "\n",
        "# Date management\n",
        "X['Date_Reported'] = pd.to_datetime(X['Date_Reported'], format='%m/%d/%Y %I:%M:%S %p', errors='coerce')\n",
        "X['Date_Occurred'] = pd.to_datetime(X['Date_Occurred'], format='%m/%d/%Y %I:%M:%S %p', errors='coerce')\n",
        "X['Year_Reported'] = X.Date_Reported.dt.year\n",
        "X['Year_Occurred'] = X.Date_Occurred.dt.year\n",
        "X['Month_Reported'] = X.Date_Reported.dt.month\n",
        "X['Month_Occurred'] = X.Date_Occurred.dt.month\n",
        "X['Day_Reported'] = X.Date_Reported.dt.day\n",
        "X['Day_Occurred'] = X.Date_Occurred.dt.day\n",
        "X.drop(['Date_Reported', 'Date_Occurred'], axis=1, inplace=True)\n",
        "\n",
        "# Split of the data\n",
        "X_train, X_test, y_train, y_test = train_test_split(X, y, test_size=0.2, random_state=42)\n",
        "\n",
        "# Encoding categorical columns with handling for unseen values\n",
        "categorical_columns = ['Location', 'Area_Name', 'Modus_Operandi', 'Victim_Sex', 'Victim_Descent',\n",
        "                       'Premise_Description', 'Weapon_Description', 'Status', 'Status_Description']\n",
        "\n",
        "for col in categorical_columns:\n",
        "    # Create a unique mapping of values for the training set\n",
        "    unique_vals = X_train[col].astype(str).unique()\n",
        "    mapping = {val: idx for idx, val in enumerate(unique_vals)}\n",
        "\n",
        "    # Apply the mapping to the training set\n",
        "    X_train[col] = X_train[col].astype(str).map(mapping)\n",
        "\n",
        "    # Apply the mapping to the test set, handling unseen values\n",
        "    X_test[col] = X_test[col].astype(str).map(mapping).fillna(-1).astype(int)\n",
        "\n",
        "# Split of the training set\n",
        "X_train, X_val, y_train, y_val = train_test_split(X_train, y_train, test_size=0.2, random_state=42)\n",
        "\n",
        "if y_train.dtype == 'object':\n",
        "    y_train = y_train.astype('category').cat.codes\n",
        "if y_val.dtype == 'object':\n",
        "    y_val = y_val.astype('category').cat.codes\n",
        "if y_test.dtype == 'object':\n",
        "    y_test = y_test.astype('category').cat.codes\n",
        "\n",
        "# Tensors PyTorch\n",
        "X_train_tensor = torch.tensor(X_train.values, dtype=torch.float32)\n",
        "X_val_tensor = torch.tensor(X_val.values, dtype=torch.float32)\n",
        "X_test_tensor = torch.tensor(X_test.values, dtype=torch.float32)\n",
        "y_train_tensor = torch.tensor(y_train.values, dtype=torch.long)\n",
        "y_val_tensor = torch.tensor(y_val.values, dtype=torch.long)\n",
        "y_test_tensor = torch.tensor(y_test.values, dtype=torch.long)\n",
        "\n",
        "train_dataset = TensorDataset(X_train_tensor, y_train_tensor)\n",
        "val_dataset = TensorDataset(X_val_tensor, y_val_tensor)\n",
        "test_dataset = TensorDataset(X_test_tensor, y_test_tensor)\n",
        "\n",
        "train_loader = DataLoader(train_dataset, batch_size=32, shuffle=True)\n",
        "val_loader = DataLoader(val_dataset, batch_size=32, shuffle=False)\n",
        "test_loader = DataLoader(test_dataset, batch_size=32, shuffle=False)"
      ],
      "metadata": {
        "id": "rU85fPdmtDHx"
      },
      "execution_count": 9,
      "outputs": []
    },
    {
      "cell_type": "markdown",
      "source": [
        "**TRAINING OF A NEURAL NETWORK MODEL**"
      ],
      "metadata": {
        "id": "swLRXjhhs6ah"
      }
    },
    {
      "cell_type": "code",
      "source": [
        "# 1. Model definition\n",
        "class NeuralNetwork(nn.Module):\n",
        "    def __init__(self, input_size, output_size):\n",
        "        super(NeuralNetwork, self).__init__()\n",
        "        self.fc1 = nn.Linear(input_size, 64)  # First Layer\n",
        "        self.dropout = nn.Dropout(0.3)  # Dropout\n",
        "        self.fc2 = nn.Linear(64, 32)  # Second Layer\n",
        "        self.fc3 = nn.Linear(32, output_size)  # Output Layer\n",
        "        self.l2_regularizer = 0.001  # L2 Regularization (Weight Decay)\n",
        "\n",
        "    def forward(self, x):\n",
        "        x = F.relu(self.fc1(x))\n",
        "        x = self.dropout(x)\n",
        "        x = F.relu(self.fc2(x))\n",
        "        x = F.softmax(self.fc3(x), dim=1)\n",
        "        return x\n",
        "\n",
        "# 2. Model's parameters\n",
        "input_size = X_train.shape[1]\n",
        "output_size = len(y.unique())\n",
        "learning_rate = 0.001\n",
        "\n",
        "device = torch.device(\"cuda\" if torch.cuda.is_available() else \"cpu\")\n",
        "model = NeuralNetwork(input_size, output_size)\n",
        "model = model.to(device)\n",
        "optimizer = optim.Adam(model.parameters(), lr=learning_rate, weight_decay = model.l2_regularizer)\n",
        "criterion = nn.CrossEntropyLoss()\n",
        "\n",
        "# 3. Training and Validation step\n",
        "epochs = 10\n",
        "\n",
        "# Training e Validation loop\n",
        "# early stopping\n",
        "patience = 3\n",
        "counter = 0\n",
        "best_val_loss = float('inf')\n",
        "\n",
        "for epoch in range(epochs):\n",
        "    model.train()\n",
        "    running_loss = 0.0\n",
        "    progress_bar = tqdm(train_loader, desc=f\"Epoch {epoch+1}/{epochs}\", unit=\"batch\")\n",
        "    for inputs, labels in progress_bar:\n",
        "        inputs, labels = inputs.to(device), labels.to(device)\n",
        "        # Forward pass\n",
        "        outputs = model(inputs)\n",
        "        loss = criterion(outputs, labels)\n",
        "\n",
        "        # Backward pass\n",
        "        optimizer.zero_grad()\n",
        "        loss.backward()\n",
        "        optimizer.step()\n",
        "\n",
        "        running_loss += loss.item()\n",
        "        progress_bar.set_postfix(loss=running_loss/len(train_loader))\n",
        "\n",
        "    # Validazione\n",
        "    model.eval()\n",
        "    val_loss = 0.0\n",
        "    with torch.no_grad():\n",
        "        for inputs, labels in val_loader:\n",
        "            inputs, labels = inputs.to(device), labels.to(device)\n",
        "            outputs = model(inputs)\n",
        "            loss = criterion(outputs, labels)\n",
        "            val_loss += loss.item()\n",
        "\n",
        "    print(f\"Epoch {epoch+1}/{epochs}, Training Loss: {running_loss/len(train_loader):.4f}, Validation Loss: {val_loss/len(val_loader):.4f}\")\n",
        "\n",
        "    # Early stopping\n",
        "    if val_loss < best_val_loss:\n",
        "        best_val_loss = val_loss\n",
        "        best_model_state = model.state_dict()\n",
        "        counter = 0\n",
        "    else:\n",
        "        counter += 1\n",
        "\n",
        "    if counter >= patience:\n",
        "        print(\"Early stopping\")\n",
        "        break"
      ],
      "metadata": {
        "colab": {
          "base_uri": "https://localhost:8080/"
        },
        "id": "cvJqDBamkE7q",
        "outputId": "236aba24-71ce-4aeb-89cd-4ceb915a6228"
      },
      "execution_count": 16,
      "outputs": [
        {
          "output_type": "stream",
          "name": "stderr",
          "text": [
            "Epoch 1/10: 100%|██████████| 400/400 [00:02<00:00, 166.58batch/s, loss=1.95]\n"
          ]
        },
        {
          "output_type": "stream",
          "name": "stdout",
          "text": [
            "Epoch 1/10, Training Loss: 1.9453, Validation Loss: 2.0292\n"
          ]
        },
        {
          "output_type": "stream",
          "name": "stderr",
          "text": [
            "Epoch 2/10: 100%|██████████| 400/400 [00:02<00:00, 176.73batch/s, loss=1.87]\n"
          ]
        },
        {
          "output_type": "stream",
          "name": "stdout",
          "text": [
            "Epoch 2/10, Training Loss: 1.8735, Validation Loss: 1.8011\n"
          ]
        },
        {
          "output_type": "stream",
          "name": "stderr",
          "text": [
            "Epoch 3/10: 100%|██████████| 400/400 [00:02<00:00, 174.09batch/s, loss=1.81]\n"
          ]
        },
        {
          "output_type": "stream",
          "name": "stdout",
          "text": [
            "Epoch 3/10, Training Loss: 1.8091, Validation Loss: 1.8011\n"
          ]
        },
        {
          "output_type": "stream",
          "name": "stderr",
          "text": [
            "Epoch 4/10: 100%|██████████| 400/400 [00:01<00:00, 200.61batch/s, loss=1.81]\n"
          ]
        },
        {
          "output_type": "stream",
          "name": "stdout",
          "text": [
            "Epoch 4/10, Training Loss: 1.8091, Validation Loss: 1.8011\n"
          ]
        },
        {
          "output_type": "stream",
          "name": "stderr",
          "text": [
            "Epoch 5/10: 100%|██████████| 400/400 [00:02<00:00, 198.48batch/s, loss=1.81]\n"
          ]
        },
        {
          "output_type": "stream",
          "name": "stdout",
          "text": [
            "Epoch 5/10, Training Loss: 1.8091, Validation Loss: 1.8011\n",
            "Early stopping\n"
          ]
        }
      ]
    },
    {
      "cell_type": "markdown",
      "source": [
        "**EVALUATION**"
      ],
      "metadata": {
        "id": "iN5H1xVyrwFI"
      }
    },
    {
      "cell_type": "code",
      "source": [
        "# 5. Evaluation\n",
        "model.eval()\n",
        "correct = 0\n",
        "total = 0\n",
        "y_pred = []\n",
        "y_true = []\n",
        "with torch.no_grad():\n",
        "    for inputs, labels in test_loader:\n",
        "        inputs, labels = inputs.to(device), labels.to(device)\n",
        "        outputs = model(inputs)\n",
        "        _, predicted = torch.max(outputs, 1)\n",
        "        total += labels.size(0)\n",
        "        correct += (predicted == labels).sum().item()\n",
        "        y_pred.extend(predicted.cpu().numpy())\n",
        "        y_true.extend(labels.cpu().numpy())\n",
        "\n",
        "accuracy = 100 * correct / total\n",
        "\n",
        "# Confusion Matrix\n",
        "conf_matrix = confusion_matrix(y_true, y_pred)\n",
        "plt.figure(figsize=(10, 7))\n",
        "sns.heatmap(conf_matrix, annot=True, fmt='d', cmap='Blues', xticklabels=np.unique(y_true), yticklabels=np.unique(y_true))\n",
        "plt.xlabel('Predicted')\n",
        "plt.ylabel('True')\n",
        "plt.title('Confusion Matrix')\n",
        "plt.show()\n",
        "\n",
        "# Classification Report\n",
        "class_report = classification_report(y_true, y_pred, zero_division=0)\n",
        "print(\"Classification Report:\")\n",
        "print(class_report)"
      ],
      "metadata": {
        "colab": {
          "base_uri": "https://localhost:8080/",
          "height": 912
        },
        "id": "uk0D20_irvS5",
        "outputId": "61d931dd-b051-4cc0-aae7-426c5b8d108e"
      },
      "execution_count": 11,
      "outputs": [
        {
          "output_type": "display_data",
          "data": {
            "text/plain": [
              "<Figure size 1000x700 with 2 Axes>"
            ],
            "image/png": "[encoded data removed]"
          },
          "metadata": {}
        },
        {
          "output_type": "stream",
          "name": "stdout",
          "text": [
            "Classification Report:\n",
            "              precision    recall  f1-score   support\n",
            "\n",
            "           0       0.00      0.00      0.00        32\n",
            "           1       0.00      0.00      0.00       374\n",
            "           2       0.00      0.00      0.00       267\n",
            "           3       0.01      1.00      0.02        35\n",
            "           4       0.00      0.00      0.00      2303\n",
            "           5       0.00      0.00      0.00       989\n",
            "\n",
            "    accuracy                           0.01      4000\n",
            "   macro avg       0.00      0.17      0.00      4000\n",
            "weighted avg       0.00      0.01      0.00      4000\n",
            "\n"
          ]
        }
      ]
    }
  ]
}